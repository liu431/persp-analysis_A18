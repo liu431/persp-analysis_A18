{
 "cells": [
  {
   "cell_type": "markdown",
   "metadata": {},
   "source": [
    "### Phone Numbers Validation Tool using NumVerify API\n",
    "\n",
    "LI LIU\n",
    "\n",
    "10/26/18"
   ]
  },
  {
   "cell_type": "code",
   "execution_count": 216,
   "metadata": {
    "collapsed": true
   },
   "outputs": [],
   "source": [
    "import pandas as pd"
   ]
  },
  {
   "cell_type": "code",
   "execution_count": 217,
   "metadata": {},
   "outputs": [],
   "source": [
    "#Delete first two rows in excel\n",
    "#Read in file\n",
    "Num = pd.read_excel('PhoneSurvey.xlsx', names=['ID','Phone','Response','Party','Age'])"
   ]
  },
  {
   "cell_type": "code",
   "execution_count": 218,
   "metadata": {},
   "outputs": [
    {
     "data": {
      "text/html": [
       "<div>\n",
       "<style scoped>\n",
       "    .dataframe tbody tr th:only-of-type {\n",
       "        vertical-align: middle;\n",
       "    }\n",
       "\n",
       "    .dataframe tbody tr th {\n",
       "        vertical-align: top;\n",
       "    }\n",
       "\n",
       "    .dataframe thead th {\n",
       "        text-align: right;\n",
       "    }\n",
       "</style>\n",
       "<table border=\"1\" class=\"dataframe\">\n",
       "  <thead>\n",
       "    <tr style=\"text-align: right;\">\n",
       "      <th></th>\n",
       "      <th>ID</th>\n",
       "      <th>Phone</th>\n",
       "      <th>Response</th>\n",
       "      <th>Party</th>\n",
       "      <th>Age</th>\n",
       "      <th>Code</th>\n",
       "      <th>PN</th>\n",
       "    </tr>\n",
       "  </thead>\n",
       "  <tbody>\n",
       "    <tr>\n",
       "      <th>0</th>\n",
       "      <td>1</td>\n",
       "      <td>4310454</td>\n",
       "      <td>NaN</td>\n",
       "      <td>NaN</td>\n",
       "      <td>NaN</td>\n",
       "      <td>267</td>\n",
       "      <td>2674310454</td>\n",
       "    </tr>\n",
       "    <tr>\n",
       "      <th>1</th>\n",
       "      <td>2</td>\n",
       "      <td>6920338</td>\n",
       "      <td>NaN</td>\n",
       "      <td>NaN</td>\n",
       "      <td>NaN</td>\n",
       "      <td>267</td>\n",
       "      <td>2676920338</td>\n",
       "    </tr>\n",
       "    <tr>\n",
       "      <th>2</th>\n",
       "      <td>3</td>\n",
       "      <td>6918070</td>\n",
       "      <td>NaN</td>\n",
       "      <td>NaN</td>\n",
       "      <td>NaN</td>\n",
       "      <td>267</td>\n",
       "      <td>2676918070</td>\n",
       "    </tr>\n",
       "    <tr>\n",
       "      <th>3</th>\n",
       "      <td>4</td>\n",
       "      <td>3605305</td>\n",
       "      <td>NaN</td>\n",
       "      <td>NaN</td>\n",
       "      <td>NaN</td>\n",
       "      <td>267</td>\n",
       "      <td>2673605305</td>\n",
       "    </tr>\n",
       "    <tr>\n",
       "      <th>4</th>\n",
       "      <td>5</td>\n",
       "      <td>8892229</td>\n",
       "      <td>NaN</td>\n",
       "      <td>NaN</td>\n",
       "      <td>NaN</td>\n",
       "      <td>267</td>\n",
       "      <td>2678892229</td>\n",
       "    </tr>\n",
       "  </tbody>\n",
       "</table>\n",
       "</div>"
      ],
      "text/plain": [
       "   ID    Phone  Response  Party  Age  Code          PN\n",
       "0   1  4310454       NaN    NaN  NaN   267  2674310454\n",
       "1   2  6920338       NaN    NaN  NaN   267  2676920338\n",
       "2   3  6918070       NaN    NaN  NaN   267  2676918070\n",
       "3   4  3605305       NaN    NaN  NaN   267  2673605305\n",
       "4   5  8892229       NaN    NaN  NaN   267  2678892229"
      ]
     },
     "execution_count": 218,
     "metadata": {},
     "output_type": "execute_result"
    }
   ],
   "source": [
    "#Code 267 for Philly!\n",
    "Num[\"Code\"]=267\n",
    "Num[\"PN\"]=Num[\"Code\"].astype(str)+Num[\"Phone\"].astype(str)\n",
    "Num.head()"
   ]
  },
  {
   "cell_type": "markdown",
   "metadata": {},
   "source": [
    "### Go to https://numverify.com/documentation\n",
    "### Create a free account to get access key (up to 250 API requests)"
   ]
  },
  {
   "cell_type": "code",
   "execution_count": 178,
   "metadata": {},
   "outputs": [],
   "source": [
    "import urllib.request, json \n",
    "list=[]\n",
    "#Replace with access key\n",
    "key = '###################'\n",
    "def validtest(number):\n",
    "    link=\"http://apilayer.net/api/validate?access_key=\"+key+\"&number=\"+number+\"&country_code=US&format=1\"\n",
    "    with urllib.request.urlopen(link) as url:\n",
    "         data = json.loads(url.read().decode())\n",
    "         if data[\"valid\"]==True:\n",
    "            list.append(1)\n",
    "         else:\n",
    "            list.append(0)\n",
    "                \n",
    "    return data\n"
   ]
  },
  {
   "cell_type": "code",
   "execution_count": 179,
   "metadata": {},
   "outputs": [
    {
     "name": "stdout",
     "output_type": "stream",
     "text": [
      "{'valid': True, 'number': '12674310454', 'local_format': '2674310454', 'international_format': '+12674310454', 'country_prefix': '+1', 'country_code': 'US', 'country_name': 'United States of America', 'location': 'Phphsbzn43', 'carrier': 'Cellco Partnership (Verizon Wireless)', 'line_type': 'mobile'}\n",
      "{'valid': True, 'number': '12676920338', 'local_format': '2676920338', 'international_format': '+12676920338', 'country_prefix': '+1', 'country_code': 'US', 'country_name': 'United States of America', 'location': 'Phphsbzn34', 'carrier': '', 'line_type': 'landline'}\n",
      "{'valid': True, 'number': '12676918070', 'local_format': '2676918070', 'international_format': '+12676918070', 'country_prefix': '+1', 'country_code': 'US', 'country_name': 'United States of America', 'location': 'Phldlphzn4', 'carrier': '', 'line_type': 'landline'}\n",
      "{'valid': True, 'number': '12673605305', 'local_format': '2673605305', 'international_format': '+12673605305', 'country_prefix': '+1', 'country_code': 'US', 'country_name': 'United States of America', 'location': 'Plumstedvl', 'carrier': '', 'line_type': 'landline'}\n",
      "{'valid': True, 'number': '12678892229', 'local_format': '2678892229', 'international_format': '+12678892229', 'country_prefix': '+1', 'country_code': 'US', 'country_name': 'United States of America', 'location': 'Phldlphzn2', 'carrier': 'Cellco Partnership (Verizon Wireless)', 'line_type': 'mobile'}\n",
      "{'valid': True, 'number': '12673421805', 'local_format': '2673421805', 'international_format': '+12673421805', 'country_prefix': '+1', 'country_code': 'US', 'country_name': 'United States of America', 'location': 'Phphsbzn33', 'carrier': 'T-Mobile USA Inc.', 'line_type': 'mobile'}\n",
      "{'valid': True, 'number': '12674172517', 'local_format': '2674172517', 'international_format': '+12674172517', 'country_prefix': '+1', 'country_code': 'US', 'country_name': 'United States of America', 'location': 'Phphsbzn32', 'carrier': '', 'line_type': 'landline'}\n",
      "{'valid': True, 'number': '12678613530', 'local_format': '2678613530', 'international_format': '+12678613530', 'country_prefix': '+1', 'country_code': 'US', 'country_name': 'United States of America', 'location': 'Phldlphzn1', 'carrier': '', 'line_type': 'landline'}\n",
      "{'valid': True, 'number': '12675087341', 'local_format': '2675087341', 'international_format': '+12675087341', 'country_prefix': '+1', 'country_code': 'US', 'country_name': 'United States of America', 'location': 'Phphsbzn32', 'carrier': '', 'line_type': 'landline'}\n",
      "{'valid': True, 'number': '12672438163', 'local_format': '2672438163', 'international_format': '+12672438163', 'country_prefix': '+1', 'country_code': 'US', 'country_name': 'United States of America', 'location': 'Phldlphzn1', 'carrier': 'T-Mobile USA Inc.', 'line_type': 'mobile'}\n",
      "{'valid': True, 'number': '12674037270', 'local_format': '2674037270', 'international_format': '+12674037270', 'country_prefix': '+1', 'country_code': 'US', 'country_name': 'United States of America', 'location': 'Phldlphzn2', 'carrier': 'T-Mobile USA Inc.', 'line_type': 'mobile'}\n",
      "{'valid': True, 'number': '12675652672', 'local_format': '2675652672', 'international_format': '+12675652672', 'country_prefix': '+1', 'country_code': 'US', 'country_name': 'United States of America', 'location': 'Phphsbzn43', 'carrier': '', 'line_type': 'landline'}\n",
      "{'valid': True, 'number': '12677393216', 'local_format': '2677393216', 'international_format': '+12677393216', 'country_prefix': '+1', 'country_code': 'US', 'country_name': 'United States of America', 'location': 'Phldlphzn2', 'carrier': 'Schuykill Mobile Fone Inc.', 'line_type': 'paging'}\n",
      "{'valid': True, 'number': '12677229394', 'local_format': '2677229394', 'international_format': '+12677229394', 'country_prefix': '+1', 'country_code': 'US', 'country_name': 'United States of America', 'location': 'Phphsbzn37', 'carrier': '', 'line_type': 'landline'}\n",
      "{'valid': True, 'number': '12675151305', 'local_format': '2675151305', 'international_format': '+12675151305', 'country_prefix': '+1', 'country_code': 'US', 'country_name': 'United States of America', 'location': 'Phldlphzn1', 'carrier': 'AT&T Mobility LLC', 'line_type': 'mobile'}\n",
      "{'valid': True, 'number': '12674877748', 'local_format': '2674877748', 'international_format': '+12674877748', 'country_prefix': '+1', 'country_code': 'US', 'country_name': 'United States of America', 'location': 'Phphsbzn45', 'carrier': '', 'line_type': 'landline'}\n",
      "{'valid': True, 'number': '12674265519', 'local_format': '2674265519', 'international_format': '+12674265519', 'country_prefix': '+1', 'country_code': 'US', 'country_name': 'United States of America', 'location': 'Phldlphzn2', 'carrier': '', 'line_type': 'landline'}\n",
      "{'valid': True, 'number': '12676516979', 'local_format': '2676516979', 'international_format': '+12676516979', 'country_prefix': '+1', 'country_code': 'US', 'country_name': 'United States of America', 'location': 'Northwales', 'carrier': '', 'line_type': 'landline'}\n",
      "{'valid': False, 'number': '12678565245', 'local_format': '', 'international_format': '', 'country_prefix': '', 'country_code': '', 'country_name': '', 'location': '', 'carrier': '', 'line_type': None}\n",
      "{'valid': True, 'number': '12678407755', 'local_format': '2678407755', 'international_format': '+12678407755', 'country_prefix': '+1', 'country_code': 'US', 'country_name': 'United States of America', 'location': 'Buckingham', 'carrier': '', 'line_type': 'landline'}\n",
      "{'valid': True, 'number': '12672709233', 'local_format': '2672709233', 'international_format': '+12672709233', 'country_prefix': '+1', 'country_code': 'US', 'country_name': 'United States of America', 'location': 'Phldlphzn3', 'carrier': 'T-Mobile USA Inc.', 'line_type': 'mobile'}\n",
      "{'valid': True, 'number': '12679181750', 'local_format': '2679181750', 'international_format': '+12679181750', 'country_prefix': '+1', 'country_code': 'US', 'country_name': 'United States of America', 'location': 'Phldlphzn1', 'carrier': 'T-Mobile USA Inc.', 'line_type': 'mobile'}\n",
      "{'valid': True, 'number': '12674860050', 'local_format': '2674860050', 'international_format': '+12674860050', 'country_prefix': '+1', 'country_code': 'US', 'country_name': 'United States of America', 'location': 'Phphsbzn45', 'carrier': '', 'line_type': 'landline'}\n",
      "{'valid': True, 'number': '12678194429', 'local_format': '2678194429', 'international_format': '+12678194429', 'country_prefix': '+1', 'country_code': 'US', 'country_name': 'United States of America', 'location': 'Phphsbzn43', 'carrier': '', 'line_type': 'landline'}\n",
      "{'valid': True, 'number': '12677497881', 'local_format': '2677497881', 'international_format': '+12677497881', 'country_prefix': '+1', 'country_code': 'US', 'country_name': 'United States of America', 'location': 'New Hope', 'carrier': '', 'line_type': 'landline'}\n",
      "{'valid': True, 'number': '12676978928', 'local_format': '2676978928', 'international_format': '+12676978928', 'country_prefix': '+1', 'country_code': 'US', 'country_name': 'United States of America', 'location': 'Morrisvl', 'carrier': '', 'line_type': 'landline'}\n",
      "{'valid': True, 'number': '12674670541', 'local_format': '2674670541', 'international_format': '+12674670541', 'country_prefix': '+1', 'country_code': 'US', 'country_name': 'United States of America', 'location': 'Phphsbzn33', 'carrier': 'T-Mobile USA Inc.', 'line_type': 'mobile'}\n",
      "{'valid': True, 'number': '12678642160', 'local_format': '2678642160', 'international_format': '+12678642160', 'country_prefix': '+1', 'country_code': 'US', 'country_name': 'United States of America', 'location': 'Doylestown', 'carrier': '', 'line_type': 'landline'}\n",
      "{'valid': True, 'number': '12673109656', 'local_format': '2673109656', 'international_format': '+12673109656', 'country_prefix': '+1', 'country_code': 'US', 'country_name': 'United States of America', 'location': 'Phldlphzn3', 'carrier': '', 'line_type': 'landline'}\n",
      "{'valid': True, 'number': '12672536524', 'local_format': '2672536524', 'international_format': '+12672536524', 'country_prefix': '+1', 'country_code': 'US', 'country_name': 'United States of America', 'location': 'Phldlphzn1', 'carrier': 'AT&T Mobility LLC', 'line_type': 'mobile'}\n",
      "{'valid': True, 'number': '12674159593', 'local_format': '2674159593', 'international_format': '+12674159593', 'country_prefix': '+1', 'country_code': 'US', 'country_name': 'United States of America', 'location': 'Phphsbzn34', 'carrier': '', 'line_type': 'landline'}\n"
     ]
    },
    {
     "name": "stdout",
     "output_type": "stream",
     "text": [
      "{'valid': True, 'number': '12679156659', 'local_format': '2679156659', 'international_format': '+12679156659', 'country_prefix': '+1', 'country_code': 'US', 'country_name': 'United States of America', 'location': 'Phphsbzn45', 'carrier': '', 'line_type': 'landline'}\n",
      "{'valid': True, 'number': '12672630658', 'local_format': '2672630658', 'international_format': '+12672630658', 'country_prefix': '+1', 'country_code': 'US', 'country_name': 'United States of America', 'location': 'Lansdale', 'carrier': '', 'line_type': 'landline'}\n",
      "{'valid': True, 'number': '12673103116', 'local_format': '2673103116', 'international_format': '+12673103116', 'country_prefix': '+1', 'country_code': 'US', 'country_name': 'United States of America', 'location': 'Phldlphzn3', 'carrier': '', 'line_type': 'landline'}\n",
      "{'valid': True, 'number': '12673526990', 'local_format': '2673526990', 'international_format': '+12673526990', 'country_prefix': '+1', 'country_code': 'US', 'country_name': 'United States of America', 'location': 'Newtown', 'carrier': '', 'line_type': 'landline'}\n",
      "{'valid': True, 'number': '12678903095', 'local_format': '2678903095', 'international_format': '+12678903095', 'country_prefix': '+1', 'country_code': 'US', 'country_name': 'United States of America', 'location': 'Harleysvl', 'carrier': '', 'line_type': 'landline'}\n",
      "{'valid': True, 'number': '12678761170', 'local_format': '2678761170', 'international_format': '+12678761170', 'country_prefix': '+1', 'country_code': 'US', 'country_name': 'United States of America', 'location': 'Phphsbzn43', 'carrier': 'Cellco Partnership (Verizon Wireless)', 'line_type': 'mobile'}\n",
      "{'valid': False, 'number': '12679173160', 'local_format': '', 'international_format': '', 'country_prefix': '', 'country_code': '', 'country_name': '', 'location': '', 'carrier': '', 'line_type': None}\n",
      "{'valid': False, 'number': '12678450958', 'local_format': '', 'international_format': '', 'country_prefix': '', 'country_code': '', 'country_name': '', 'location': '', 'carrier': '', 'line_type': None}\n",
      "{'valid': True, 'number': '12675849527', 'local_format': '2675849527', 'international_format': '+12675849527', 'country_prefix': '+1', 'country_code': 'US', 'country_name': 'United States of America', 'location': 'Phldlphzn1', 'carrier': 'AT&T Mobility LLC', 'line_type': 'mobile'}\n",
      "{'valid': True, 'number': '12679874505', 'local_format': '2679874505', 'international_format': '+12679874505', 'country_prefix': '+1', 'country_code': 'US', 'country_name': 'United States of America', 'location': 'Phphsbzn40', 'carrier': 'Sprint Corp.', 'line_type': 'mobile'}\n",
      "{'valid': True, 'number': '12675080490', 'local_format': '2675080490', 'international_format': '+12675080490', 'country_prefix': '+1', 'country_code': 'US', 'country_name': 'United States of America', 'location': 'Phphsbzn32', 'carrier': '', 'line_type': 'landline'}\n",
      "{'valid': True, 'number': '12677459046', 'local_format': '2677459046', 'international_format': '+12677459046', 'country_prefix': '+1', 'country_code': 'US', 'country_name': 'United States of America', 'location': 'Phldlphzn1', 'carrier': 'Sprint Corp.', 'line_type': 'mobile'}\n",
      "{'valid': False, 'number': '12674455876', 'local_format': '', 'international_format': '', 'country_prefix': '', 'country_code': '', 'country_name': '', 'location': '', 'carrier': '', 'line_type': None}\n",
      "{'valid': True, 'number': '12679744213', 'local_format': '2679744213', 'international_format': '+12679744213', 'country_prefix': '+1', 'country_code': 'US', 'country_name': 'United States of America', 'location': 'Phldlphzn1', 'carrier': 'Sprint Corp.', 'line_type': 'mobile'}\n",
      "{'valid': True, 'number': '12673099226', 'local_format': '2673099226', 'international_format': '+12673099226', 'country_prefix': '+1', 'country_code': 'US', 'country_name': 'United States of America', 'location': 'Phphsbzn43', 'carrier': 'Cellco Partnership (Verizon Wireless)', 'line_type': 'mobile'}\n",
      "{'valid': True, 'number': '12677441722', 'local_format': '2677441722', 'international_format': '+12677441722', 'country_prefix': '+1', 'country_code': 'US', 'country_name': 'United States of America', 'location': 'New Hope', 'carrier': '', 'line_type': 'landline'}\n",
      "{'valid': True, 'number': '12676900989', 'local_format': '2676900989', 'international_format': '+12676900989', 'country_prefix': '+1', 'country_code': 'US', 'country_name': 'United States of America', 'location': 'Phldlphzn1', 'carrier': '', 'line_type': 'landline'}\n",
      "{'valid': False, 'number': '12678572189', 'local_format': '', 'international_format': '', 'country_prefix': '', 'country_code': '', 'country_name': '', 'location': '', 'carrier': '', 'line_type': None}\n",
      "{'valid': True, 'number': '12677154223', 'local_format': '2677154223', 'international_format': '+12677154223', 'country_prefix': '+1', 'country_code': 'US', 'country_name': 'United States of America', 'location': 'Phphsbzn38', 'carrier': '', 'line_type': 'landline'}\n",
      "{'valid': True, 'number': '12676231491', 'local_format': '2676231491', 'international_format': '+12676231491', 'country_prefix': '+1', 'country_code': 'US', 'country_name': 'United States of America', 'location': 'Phldlphzn2', 'carrier': 'Cellco Partnership (Verizon Wireless)', 'line_type': 'mobile'}\n",
      "{'valid': True, 'number': '12673660183', 'local_format': '2673660183', 'international_format': '+12673660183', 'country_prefix': '+1', 'country_code': 'US', 'country_name': 'United States of America', 'location': 'Phldlphzn2', 'carrier': 'T-Mobile USA Inc.', 'line_type': 'mobile'}\n",
      "{'valid': True, 'number': '12675014048', 'local_format': '2675014048', 'international_format': '+12675014048', 'country_prefix': '+1', 'country_code': 'US', 'country_name': 'United States of America', 'location': 'Phldlphzn1', 'carrier': '', 'line_type': 'landline'}\n",
      "{'valid': True, 'number': '12673395385', 'local_format': '2673395385', 'international_format': '+12673395385', 'country_prefix': '+1', 'country_code': 'US', 'country_name': 'United States of America', 'location': 'Phldlphzn3', 'carrier': '', 'line_type': 'landline'}\n",
      "{'valid': True, 'number': '12675220200', 'local_format': '2675220200', 'international_format': '+12675220200', 'country_prefix': '+1', 'country_code': 'US', 'country_name': 'United States of America', 'location': 'Phphsbzn41', 'carrier': '', 'line_type': 'landline'}\n",
      "{'valid': True, 'number': '12674510321', 'local_format': '2674510321', 'international_format': '+12674510321', 'country_prefix': '+1', 'country_code': 'US', 'country_name': 'United States of America', 'location': 'Perkasie', 'carrier': '', 'line_type': 'landline'}\n",
      "{'valid': True, 'number': '12678189798', 'local_format': '2678189798', 'international_format': '+12678189798', 'country_prefix': '+1', 'country_code': 'US', 'country_name': 'United States of America', 'location': 'Phphsbzn38', 'carrier': '', 'line_type': 'landline'}\n",
      "{'valid': True, 'number': '12672687999', 'local_format': '2672687999', 'international_format': '+12672687999', 'country_prefix': '+1', 'country_code': 'US', 'country_name': 'United States of America', 'location': 'Phphsbzn43', 'carrier': 'Cellco Partnership (Verizon Wireless)', 'line_type': 'mobile'}\n",
      "{'valid': True, 'number': '12679551750', 'local_format': '2679551750', 'international_format': '+12679551750', 'country_prefix': '+1', 'country_code': 'US', 'country_name': 'United States of America', 'location': 'Linelxngtn', 'carrier': '', 'line_type': 'landline'}\n",
      "{'valid': True, 'number': '12673894955', 'local_format': '2673894955', 'international_format': '+12673894955', 'country_prefix': '+1', 'country_code': 'US', 'country_name': 'United States of America', 'location': 'Souderton', 'carrier': '', 'line_type': 'landline'}\n",
      "{'valid': True, 'number': '12673018578', 'local_format': '2673018578', 'international_format': '+12673018578', 'country_prefix': '+1', 'country_code': 'US', 'country_name': 'United States of America', 'location': 'Phldlphzn1', 'carrier': 'Sprint Corp.', 'line_type': 'mobile'}\n",
      "{'valid': True, 'number': '12672758398', 'local_format': '2672758398', 'international_format': '+12672758398', 'country_prefix': '+1', 'country_code': 'US', 'country_name': 'United States of America', 'location': 'Phldlphzn2', 'carrier': '', 'line_type': 'landline'}\n"
     ]
    },
    {
     "name": "stdout",
     "output_type": "stream",
     "text": [
      "{'valid': True, 'number': '12673891447', 'local_format': '2673891447', 'international_format': '+12673891447', 'country_prefix': '+1', 'country_code': 'US', 'country_name': 'United States of America', 'location': 'Souderton', 'carrier': '', 'line_type': 'landline'}\n",
      "{'valid': True, 'number': '12672661373', 'local_format': '2672661373', 'international_format': '+12672661373', 'country_prefix': '+1', 'country_code': 'US', 'country_name': 'United States of America', 'location': 'Phldlphzn1', 'carrier': 'T-Mobile USA Inc.', 'line_type': 'mobile'}\n",
      "{'valid': True, 'number': '12676190466', 'local_format': '2676190466', 'international_format': '+12676190466', 'country_prefix': '+1', 'country_code': 'US', 'country_name': 'United States of America', 'location': 'Phphsbzn43', 'carrier': 'Cellco Partnership (Verizon Wireless)', 'line_type': 'mobile'}\n",
      "{'valid': True, 'number': '12674491947', 'local_format': '2674491947', 'international_format': '+12674491947', 'country_prefix': '+1', 'country_code': 'US', 'country_name': 'United States of America', 'location': 'Phldlphzn2', 'carrier': 'T-Mobile USA Inc.', 'line_type': 'mobile'}\n",
      "{'valid': True, 'number': '12673008542', 'local_format': '2673008542', 'international_format': '+12673008542', 'country_prefix': '+1', 'country_code': 'US', 'country_name': 'United States of America', 'location': 'Phphsbzn43', 'carrier': '', 'line_type': 'landline'}\n",
      "{'valid': False, 'number': '12679177932', 'local_format': '', 'international_format': '', 'country_prefix': '', 'country_code': '', 'country_name': '', 'location': '', 'carrier': '', 'line_type': None}\n",
      "{'valid': True, 'number': '12675434580', 'local_format': '2675434580', 'international_format': '+12675434580', 'country_prefix': '+1', 'country_code': 'US', 'country_name': 'United States of America', 'location': 'Phphsbzn42', 'carrier': '', 'line_type': 'landline'}\n",
      "{'valid': True, 'number': '12675588372', 'local_format': '2675588372', 'international_format': '+12675588372', 'country_prefix': '+1', 'country_code': 'US', 'country_name': 'United States of America', 'location': 'Phphsbzn33', 'carrier': '', 'line_type': 'landline'}\n",
      "{'valid': True, 'number': '12676528460', 'local_format': '2676528460', 'international_format': '+12676528460', 'country_prefix': '+1', 'country_code': 'US', 'country_name': 'United States of America', 'location': 'Northwales', 'carrier': '', 'line_type': 'landline'}\n",
      "{'valid': True, 'number': '12675080362', 'local_format': '2675080362', 'international_format': '+12675080362', 'country_prefix': '+1', 'country_code': 'US', 'country_name': 'United States of America', 'location': 'Phphsbzn32', 'carrier': '', 'line_type': 'landline'}\n",
      "{'valid': True, 'number': '12675807911', 'local_format': '2675807911', 'international_format': '+12675807911', 'country_prefix': '+1', 'country_code': 'US', 'country_name': 'United States of America', 'location': 'Phphsbzn44', 'carrier': '', 'line_type': 'landline'}\n",
      "{'valid': True, 'number': '12673656122', 'local_format': '2673656122', 'international_format': '+12673656122', 'country_prefix': '+1', 'country_code': 'US', 'country_name': 'United States of America', 'location': 'Plumstedvl', 'carrier': '', 'line_type': 'landline'}\n",
      "{'valid': True, 'number': '12678509733', 'local_format': '2678509733', 'international_format': '+12678509733', 'country_prefix': '+1', 'country_code': 'US', 'country_name': 'United States of America', 'location': 'Phldlphzn1', 'carrier': 'Sprint Corp.', 'line_type': 'mobile'}\n",
      "{'valid': True, 'number': '12676573086', 'local_format': '2676573086', 'international_format': '+12676573086', 'country_prefix': '+1', 'country_code': 'US', 'country_name': 'United States of America', 'location': 'Northwales', 'carrier': '', 'line_type': 'landline'}\n",
      "{'valid': True, 'number': '12677515206', 'local_format': '2677515206', 'international_format': '+12677515206', 'country_prefix': '+1', 'country_code': 'US', 'country_name': 'United States of America', 'location': 'Newtown', 'carrier': '', 'line_type': 'landline'}\n",
      "{'valid': True, 'number': '12673733268', 'local_format': '2673733268', 'international_format': '+12673733268', 'country_prefix': '+1', 'country_code': 'US', 'country_name': 'United States of America', 'location': 'Quakertown', 'carrier': '', 'line_type': 'landline'}\n",
      "{'valid': True, 'number': '12676948908', 'local_format': '2676948908', 'international_format': '+12676948908', 'country_prefix': '+1', 'country_code': 'US', 'country_name': 'United States of America', 'location': 'Phldlphzn1', 'carrier': 'T-Mobile USA Inc.', 'line_type': 'mobile'}\n",
      "{'valid': True, 'number': '12674597991', 'local_format': '2674597991', 'international_format': '+12674597991', 'country_prefix': '+1', 'country_code': 'US', 'country_name': 'United States of America', 'location': 'Perkasie', 'carrier': '', 'line_type': 'landline'}\n",
      "{'valid': True, 'number': '12675010584', 'local_format': '2675010584', 'international_format': '+12675010584', 'country_prefix': '+1', 'country_code': 'US', 'country_name': 'United States of America', 'location': 'Phldlphzn1', 'carrier': '', 'line_type': 'landline'}\n",
      "{'valid': True, 'number': '12677150555', 'local_format': '2677150555', 'international_format': '+12677150555', 'country_prefix': '+1', 'country_code': 'US', 'country_name': 'United States of America', 'location': 'Phphsbzn38', 'carrier': '', 'line_type': 'landline'}\n",
      "{'valid': True, 'number': '12672318224', 'local_format': '2672318224', 'international_format': '+12672318224', 'country_prefix': '+1', 'country_code': 'US', 'country_name': 'United States of America', 'location': 'Phldlphzn1', 'carrier': 'T-Mobile USA Inc.', 'line_type': 'mobile'}\n",
      "{'valid': True, 'number': '12675894130', 'local_format': '2675894130', 'international_format': '+12675894130', 'country_prefix': '+1', 'country_code': 'US', 'country_name': 'United States of America', 'location': 'Phphsbzn41', 'carrier': '', 'line_type': 'landline'}\n",
      "{'valid': True, 'number': '12673241426', 'local_format': '2673241426', 'international_format': '+12673241426', 'country_prefix': '+1', 'country_code': 'US', 'country_name': 'United States of America', 'location': 'Phldlphzn1', 'carrier': 'AT&T Mobility LLC', 'line_type': 'mobile'}\n",
      "{'valid': False, 'number': '12679364559', 'local_format': '', 'international_format': '', 'country_prefix': '', 'country_code': '', 'country_name': '', 'location': '', 'carrier': '', 'line_type': None}\n",
      "{'valid': True, 'number': '12679980970', 'local_format': '2679980970', 'international_format': '+12679980970', 'country_prefix': '+1', 'country_code': 'US', 'country_name': 'United States of America', 'location': 'Carversvl', 'carrier': '', 'line_type': 'landline'}\n",
      "{'valid': True, 'number': '12674325683', 'local_format': '2674325683', 'international_format': '+12674325683', 'country_prefix': '+1', 'country_code': 'US', 'country_name': 'United States of America', 'location': 'Phldlphzn1', 'carrier': 'AT&T Mobility LLC', 'line_type': 'mobile'}\n",
      "{'valid': True, 'number': '12673963502', 'local_format': '2673963502', 'international_format': '+12673963502', 'country_prefix': '+1', 'country_code': 'US', 'country_name': 'United States of America', 'location': 'Wycombe', 'carrier': '', 'line_type': 'landline'}\n",
      "{'valid': True, 'number': '12677446604', 'local_format': '2677446604', 'international_format': '+12677446604', 'country_prefix': '+1', 'country_code': 'US', 'country_name': 'United States of America', 'location': 'New Hope', 'carrier': '', 'line_type': 'landline'}\n",
      "{'valid': True, 'number': '12678970051', 'local_format': '2678970051', 'international_format': '+12678970051', 'country_prefix': '+1', 'country_code': 'US', 'country_name': 'United States of America', 'location': 'Doylestown', 'carrier': '', 'line_type': 'landline'}\n",
      "{'valid': True, 'number': '12676571851', 'local_format': '2676571851', 'international_format': '+12676571851', 'country_prefix': '+1', 'country_code': 'US', 'country_name': 'United States of America', 'location': 'Northwales', 'carrier': '', 'line_type': 'landline'}\n",
      "{'valid': True, 'number': '12672818481', 'local_format': '2672818481', 'international_format': '+12672818481', 'country_prefix': '+1', 'country_code': 'US', 'country_name': 'United States of America', 'location': 'Souderton', 'carrier': '', 'line_type': 'landline'}\n"
     ]
    },
    {
     "name": "stdout",
     "output_type": "stream",
     "text": [
      "{'valid': False, 'number': '12679592068', 'local_format': '', 'international_format': '', 'country_prefix': '', 'country_code': '', 'country_name': '', 'location': '', 'carrier': '', 'line_type': None}\n",
      "{'valid': True, 'number': '12674182313', 'local_format': '2674182313', 'international_format': '+12674182313', 'country_prefix': '+1', 'country_code': 'US', 'country_name': 'United States of America', 'location': 'Phldlphzn2', 'carrier': 'Cellco Partnership (Verizon Wireless)', 'line_type': 'mobile'}\n",
      "{'valid': True, 'number': '12673881508', 'local_format': '2673881508', 'international_format': '+12673881508', 'country_prefix': '+1', 'country_code': 'US', 'country_name': 'United States of America', 'location': 'Phldlphzn4', 'carrier': '', 'line_type': 'landline'}\n",
      "{'valid': True, 'number': '12673347696', 'local_format': '2673347696', 'international_format': '+12673347696', 'country_prefix': '+1', 'country_code': 'US', 'country_name': 'United States of America', 'location': 'Phldlphzn1', 'carrier': 'T-Mobile USA Inc.', 'line_type': 'mobile'}\n",
      "{'valid': True, 'number': '12672892356', 'local_format': '2672892356', 'international_format': '+12672892356', 'country_prefix': '+1', 'country_code': 'US', 'country_name': 'United States of America', 'location': 'Phphsbzn33', 'carrier': '', 'line_type': 'landline'}\n",
      "{'valid': True, 'number': '12678330415', 'local_format': '2678330415', 'international_format': '+12678330415', 'country_prefix': '+1', 'country_code': 'US', 'country_name': 'United States of America', 'location': 'Morrisvl', 'carrier': 'AT&T Mobility LLC', 'line_type': 'mobile'}\n",
      "{'valid': True, 'number': '12674819145', 'local_format': '2674819145', 'international_format': '+12674819145', 'country_prefix': '+1', 'country_code': 'US', 'country_name': 'United States of America', 'location': 'Phphsbzn33', 'carrier': 'AT&T Mobility LLC', 'line_type': 'mobile'}\n",
      "{'valid': True, 'number': '12678775030', 'local_format': '2678775030', 'international_format': '+12678775030', 'country_prefix': '+1', 'country_code': 'US', 'country_name': 'United States of America', 'location': 'Phldlphzn3', 'carrier': '', 'line_type': 'landline'}\n",
      "{'valid': True, 'number': '12677091051', 'local_format': '2677091051', 'international_format': '+12677091051', 'country_prefix': '+1', 'country_code': 'US', 'country_name': 'United States of America', 'location': 'Phldlphzn1', 'carrier': 'T-Mobile USA Inc.', 'line_type': 'mobile'}\n",
      "{'valid': True, 'number': '12678891439', 'local_format': '2678891439', 'international_format': '+12678891439', 'country_prefix': '+1', 'country_code': 'US', 'country_name': 'United States of America', 'location': 'Phldlphzn2', 'carrier': 'Cellco Partnership (Verizon Wireless)', 'line_type': 'mobile'}\n",
      "{'valid': True, 'number': '12677315774', 'local_format': '2677315774', 'international_format': '+12677315774', 'country_prefix': '+1', 'country_code': 'US', 'country_name': 'United States of America', 'location': 'Phldlphzn4', 'carrier': '', 'line_type': 'landline'}\n",
      "{'valid': True, 'number': '12673718721', 'local_format': '2673718721', 'international_format': '+12673718721', 'country_prefix': '+1', 'country_code': 'US', 'country_name': 'United States of America', 'location': 'Quakertown', 'carrier': '', 'line_type': 'landline'}\n",
      "{'valid': True, 'number': '12675087908', 'local_format': '2675087908', 'international_format': '+12675087908', 'country_prefix': '+1', 'country_code': 'US', 'country_name': 'United States of America', 'location': 'Phphsbzn32', 'carrier': '', 'line_type': 'landline'}\n",
      "{'valid': True, 'number': '12672247311', 'local_format': '2672247311', 'international_format': '+12672247311', 'country_prefix': '+1', 'country_code': 'US', 'country_name': 'United States of America', 'location': 'Doylestown', 'carrier': '', 'line_type': 'landline'}\n",
      "{'valid': True, 'number': '12678388750', 'local_format': '2678388750', 'international_format': '+12678388750', 'country_prefix': '+1', 'country_code': 'US', 'country_name': 'United States of America', 'location': 'Phldlphzn1', 'carrier': 'Cellco Partnership (Verizon Wireless)', 'line_type': 'mobile'}\n",
      "{'valid': True, 'number': '12678192717', 'local_format': '2678192717', 'international_format': '+12678192717', 'country_prefix': '+1', 'country_code': 'US', 'country_name': 'United States of America', 'location': 'Phphsbzn43', 'carrier': '', 'line_type': 'landline'}\n",
      "{'valid': True, 'number': '12677432052', 'local_format': '2677432052', 'international_format': '+12677432052', 'country_prefix': '+1', 'country_code': 'US', 'country_name': 'United States of America', 'location': 'New Hope', 'carrier': '', 'line_type': 'landline'}\n",
      "{'valid': True, 'number': '12677083813', 'local_format': '2677083813', 'international_format': '+12677083813', 'country_prefix': '+1', 'country_code': 'US', 'country_name': 'United States of America', 'location': 'Phphsbzn33', 'carrier': '', 'line_type': 'landline'}\n",
      "{'valid': True, 'number': '12672976684', 'local_format': '2672976684', 'international_format': '+12672976684', 'country_prefix': '+1', 'country_code': 'US', 'country_name': 'United States of America', 'location': 'Phldlphzn3', 'carrier': '', 'line_type': 'landline'}\n",
      "{'valid': True, 'number': '12678661836', 'local_format': '2678661836', 'international_format': '+12678661836', 'country_prefix': '+1', 'country_code': 'US', 'country_name': 'United States of America', 'location': 'Phldlphzn1', 'carrier': '', 'line_type': 'landline'}\n",
      "{'valid': True, 'number': '12679359749', 'local_format': '2679359749', 'international_format': '+12679359749', 'country_prefix': '+1', 'country_code': 'US', 'country_name': 'United States of America', 'location': 'Doylestown', 'carrier': '', 'line_type': 'landline'}\n",
      "{'valid': True, 'number': '12677606307', 'local_format': '2677606307', 'international_format': '+12677606307', 'country_prefix': '+1', 'country_code': 'US', 'country_name': 'United States of America', 'location': 'Phldlphzn1', 'carrier': '', 'line_type': 'landline'}\n",
      "{'valid': True, 'number': '12679825275', 'local_format': '2679825275', 'international_format': '+12679825275', 'country_prefix': '+1', 'country_code': 'US', 'country_name': 'United States of America', 'location': 'Phphsbzn40', 'carrier': 'Sprint Corp.', 'line_type': 'mobile'}\n",
      "{'valid': True, 'number': '12672312219', 'local_format': '2672312219', 'international_format': '+12672312219', 'country_prefix': '+1', 'country_code': 'US', 'country_name': 'United States of America', 'location': 'Phldlphzn1', 'carrier': 'T-Mobile USA Inc.', 'line_type': 'mobile'}\n",
      "{'valid': True, 'number': '12675268099', 'local_format': '2675268099', 'international_format': '+12675268099', 'country_prefix': '+1', 'country_code': 'US', 'country_name': 'United States of America', 'location': 'Phphsbzn41', 'carrier': '', 'line_type': 'landline'}\n",
      "{'valid': True, 'number': '12672430785', 'local_format': '2672430785', 'international_format': '+12672430785', 'country_prefix': '+1', 'country_code': 'US', 'country_name': 'United States of America', 'location': 'Phldlphzn1', 'carrier': 'T-Mobile USA Inc.', 'line_type': 'mobile'}\n",
      "{'valid': True, 'number': '12674616118', 'local_format': '2674616118', 'international_format': '+12674616118', 'country_prefix': '+1', 'country_code': 'US', 'country_name': 'United States of America', 'location': 'Doylestown', 'carrier': 'AT&T Mobility LLC', 'line_type': 'mobile'}\n",
      "{'valid': True, 'number': '12676914711', 'local_format': '2676914711', 'international_format': '+12676914711', 'country_prefix': '+1', 'country_code': 'US', 'country_name': 'United States of America', 'location': 'Phldlphzn4', 'carrier': '', 'line_type': 'landline'}\n",
      "{'valid': True, 'number': '12676791019', 'local_format': '2676791019', 'international_format': '+12676791019', 'country_prefix': '+1', 'country_code': 'US', 'country_name': 'United States of America', 'location': 'Phldlphzn1', 'carrier': 'T-Mobile USA Inc.', 'line_type': 'mobile'}\n",
      "{'valid': True, 'number': '12674332585', 'local_format': '2674332585', 'international_format': '+12674332585', 'country_prefix': '+1', 'country_code': 'US', 'country_name': 'United States of America', 'location': 'Phphsbzn32', 'carrier': '', 'line_type': 'landline'}\n",
      "{'valid': True, 'number': '12676715089', 'local_format': '2676715089', 'international_format': '+12676715089', 'country_prefix': '+1', 'country_code': 'US', 'country_name': 'United States of America', 'location': 'Phldlphzn1', 'carrier': '', 'line_type': 'landline'}\n",
      "{'valid': True, 'number': '12679087058', 'local_format': '2679087058', 'international_format': '+12679087058', 'country_prefix': '+1', 'country_code': 'US', 'country_name': 'United States of America', 'location': 'Phldlphzn1', 'carrier': 'Cellco Partnership (Verizon Wireless)', 'line_type': 'mobile'}\n"
     ]
    },
    {
     "name": "stdout",
     "output_type": "stream",
     "text": [
      "{'valid': True, 'number': '12675511333', 'local_format': '2675511333', 'international_format': '+12675511333', 'country_prefix': '+1', 'country_code': 'US', 'country_name': 'United States of America', 'location': 'Phldlphzn3', 'carrier': '', 'line_type': 'landline'}\n",
      "{'valid': True, 'number': '12677842348', 'local_format': '2677842348', 'international_format': '+12677842348', 'country_prefix': '+1', 'country_code': 'US', 'country_name': 'United States of America', 'location': 'Phldlphzn1', 'carrier': 'Sprint Corp.', 'line_type': 'mobile'}\n",
      "{'valid': True, 'number': '12676985596', 'local_format': '2676985596', 'international_format': '+12676985596', 'country_prefix': '+1', 'country_code': 'US', 'country_name': 'United States of America', 'location': 'Phldlphzn2', 'carrier': 'Cellco Partnership (Verizon Wireless)', 'line_type': 'mobile'}\n",
      "{'valid': True, 'number': '12676915150', 'local_format': '2676915150', 'international_format': '+12676915150', 'country_prefix': '+1', 'country_code': 'US', 'country_name': 'United States of America', 'location': 'Phldlphzn4', 'carrier': '', 'line_type': 'landline'}\n",
      "{'valid': True, 'number': '12677551254', 'local_format': '2677551254', 'international_format': '+12677551254', 'country_prefix': '+1', 'country_code': 'US', 'country_name': 'United States of America', 'location': 'Newtown', 'carrier': '', 'line_type': 'landline'}\n",
      "{'valid': False, 'number': '12679173893', 'local_format': '', 'international_format': '', 'country_prefix': '', 'country_code': '', 'country_name': '', 'location': '', 'carrier': '', 'line_type': None}\n",
      "{'valid': True, 'number': '12672568202', 'local_format': '2672568202', 'international_format': '+12672568202', 'country_prefix': '+1', 'country_code': 'US', 'country_name': 'United States of America', 'location': 'Phldlphzn1', 'carrier': '', 'line_type': 'landline'}\n",
      "{'valid': True, 'number': '12674343802', 'local_format': '2674343802', 'international_format': '+12674343802', 'country_prefix': '+1', 'country_code': 'US', 'country_name': 'United States of America', 'location': 'Phphsbzn32', 'carrier': '', 'line_type': 'landline'}\n",
      "{'valid': False, 'number': '12678465251', 'local_format': '', 'international_format': '', 'country_prefix': '', 'country_code': '', 'country_name': '', 'location': '', 'carrier': '', 'line_type': None}\n",
      "{'valid': True, 'number': '12675902748', 'local_format': '2675902748', 'international_format': '+12675902748', 'country_prefix': '+1', 'country_code': 'US', 'country_name': 'United States of America', 'location': 'Phphsbzn44', 'carrier': '', 'line_type': 'landline'}\n",
      "{'valid': True, 'number': '12675457011', 'local_format': '2675457011', 'international_format': '+12675457011', 'country_prefix': '+1', 'country_code': 'US', 'country_name': 'United States of America', 'location': 'Phphsbzn42', 'carrier': '', 'line_type': 'landline'}\n",
      "{'valid': True, 'number': '12673443484', 'local_format': '2673443484', 'international_format': '+12673443484', 'country_prefix': '+1', 'country_code': 'US', 'country_name': 'United States of America', 'location': 'Phldlphzn4', 'carrier': '', 'line_type': 'landline'}\n",
      "{'valid': True, 'number': '12675915981', 'local_format': '2675915981', 'international_format': '+12675915981', 'country_prefix': '+1', 'country_code': 'US', 'country_name': 'United States of America', 'location': 'Phldlphzn1', 'carrier': 'AT&T Mobility LLC', 'line_type': 'mobile'}\n",
      "{'valid': True, 'number': '12677778407', 'local_format': '2677778407', 'international_format': '+12677778407', 'country_prefix': '+1', 'country_code': 'US', 'country_name': 'United States of America', 'location': 'Phldlphzn2', 'carrier': 'MetroPCS Communications Inc.', 'line_type': 'mobile'}\n",
      "{'valid': True, 'number': '12672217074', 'local_format': '2672217074', 'international_format': '+12672217074', 'country_prefix': '+1', 'country_code': 'US', 'country_name': 'United States of America', 'location': 'Doylestown', 'carrier': 'Sprint Corp.', 'line_type': 'mobile'}\n",
      "{'valid': True, 'number': '12672737031', 'local_format': '2672737031', 'international_format': '+12672737031', 'country_prefix': '+1', 'country_code': 'US', 'country_name': 'United States of America', 'location': 'Phldlphzn1', 'carrier': '', 'line_type': 'landline'}\n",
      "{'valid': True, 'number': '12678494794', 'local_format': '2678494794', 'international_format': '+12678494794', 'country_prefix': '+1', 'country_code': 'US', 'country_name': 'United States of America', 'location': 'Buckingham', 'carrier': '', 'line_type': 'landline'}\n",
      "{'valid': True, 'number': '12676628639', 'local_format': '2676628639', 'international_format': '+12676628639', 'country_prefix': '+1', 'country_code': 'US', 'country_name': 'United States of America', 'location': 'Northwales', 'carrier': '', 'line_type': 'landline'}\n",
      "{'valid': True, 'number': '12675618680', 'local_format': '2675618680', 'international_format': '+12675618680', 'country_prefix': '+1', 'country_code': 'US', 'country_name': 'United States of America', 'location': 'Phldlphzn1', 'carrier': '', 'line_type': 'landline'}\n",
      "{'valid': True, 'number': '12677888364', 'local_format': '2677888364', 'international_format': '+12677888364', 'country_prefix': '+1', 'country_code': 'US', 'country_name': 'United States of America', 'location': 'Phldlphzn2', 'carrier': 'Cellco Partnership (Verizon Wireless)', 'line_type': 'mobile'}\n",
      "{'valid': True, 'number': '12678024308', 'local_format': '2678024308', 'international_format': '+12678024308', 'country_prefix': '+1', 'country_code': 'US', 'country_name': 'United States of America', 'location': 'Phphsbzn43', 'carrier': '', 'line_type': 'landline'}\n",
      "{'valid': True, 'number': '12675051667', 'local_format': '2675051667', 'international_format': '+12675051667', 'country_prefix': '+1', 'country_code': 'US', 'country_name': 'United States of America', 'location': 'Phldlphzn1', 'carrier': 'Sprint Corp.', 'line_type': 'mobile'}\n",
      "{'valid': True, 'number': '12674159001', 'local_format': '2674159001', 'international_format': '+12674159001', 'country_prefix': '+1', 'country_code': 'US', 'country_name': 'United States of America', 'location': 'Phphsbzn34', 'carrier': '', 'line_type': 'landline'}\n",
      "{'valid': True, 'number': '12677676347', 'local_format': '2677676347', 'international_format': '+12677676347', 'country_prefix': '+1', 'country_code': 'US', 'country_name': 'United States of America', 'location': 'Phldlphzn1', 'carrier': 'Sprint Corp.', 'line_type': 'mobile'}\n",
      "{'valid': True, 'number': '12675134416', 'local_format': '2675134416', 'international_format': '+12675134416', 'country_prefix': '+1', 'country_code': 'US', 'country_name': 'United States of America', 'location': 'Phphsbzn33', 'carrier': '', 'line_type': 'landline'}\n",
      "{'valid': True, 'number': '12672267488', 'local_format': '2672267488', 'international_format': '+12672267488', 'country_prefix': '+1', 'country_code': 'US', 'country_name': 'United States of America', 'location': 'Phldlphzn1', 'carrier': 'AT&T Mobility LLC', 'line_type': 'mobile'}\n",
      "{'valid': True, 'number': '12676442587', 'local_format': '2676442587', 'international_format': '+12676442587', 'country_prefix': '+1', 'country_code': 'US', 'country_name': 'United States of America', 'location': 'Lansdale', 'carrier': '', 'line_type': 'landline'}\n",
      "{'valid': True, 'number': '12676699768', 'local_format': '2676699768', 'international_format': '+12676699768', 'country_prefix': '+1', 'country_code': 'US', 'country_name': 'United States of America', 'location': 'Phldlphzn4', 'carrier': 'T-Mobile USA Inc.', 'line_type': 'mobile'}\n",
      "{'valid': True, 'number': '12674874074', 'local_format': '2674874074', 'international_format': '+12674874074', 'country_prefix': '+1', 'country_code': 'US', 'country_name': 'United States of America', 'location': 'Phphsbzn45', 'carrier': '', 'line_type': 'landline'}\n",
      "{'valid': True, 'number': '12677866924', 'local_format': '2677866924', 'international_format': '+12677866924', 'country_prefix': '+1', 'country_code': 'US', 'country_name': 'United States of America', 'location': 'Phphsbzn40', 'carrier': '', 'line_type': 'landline'}\n",
      "{'valid': True, 'number': '12679549022', 'local_format': '2679549022', 'international_format': '+12679549022', 'country_prefix': '+1', 'country_code': 'US', 'country_name': 'United States of America', 'location': 'Linelxngtn', 'carrier': '', 'line_type': 'landline'}\n"
     ]
    },
    {
     "name": "stdout",
     "output_type": "stream",
     "text": [
      "{'valid': True, 'number': '12675026225', 'local_format': '2675026225', 'international_format': '+12675026225', 'country_prefix': '+1', 'country_code': 'US', 'country_name': 'United States of America', 'location': 'Phphsbzn37', 'carrier': '', 'line_type': 'landline'}\n",
      "{'valid': True, 'number': '12674659414', 'local_format': '2674659414', 'international_format': '+12674659414', 'country_prefix': '+1', 'country_code': 'US', 'country_name': 'United States of America', 'location': 'Phphsbzn33', 'carrier': '', 'line_type': 'landline'}\n",
      "{'valid': True, 'number': '12675419835', 'local_format': '2675419835', 'international_format': '+12675419835', 'country_prefix': '+1', 'country_code': 'US', 'country_name': 'United States of America', 'location': 'Phldlphzn1', 'carrier': 'Cellco Partnership (Verizon Wireless)', 'line_type': 'mobile'}\n",
      "{'valid': True, 'number': '12675452013', 'local_format': '2675452013', 'international_format': '+12675452013', 'country_prefix': '+1', 'country_code': 'US', 'country_name': 'United States of America', 'location': 'Phphsbzn42', 'carrier': '', 'line_type': 'landline'}\n",
      "{'valid': True, 'number': '12672692532', 'local_format': '2672692532', 'international_format': '+12672692532', 'country_prefix': '+1', 'country_code': 'US', 'country_name': 'United States of America', 'location': 'Phldlphzn1', 'carrier': 'T-Mobile USA Inc.', 'line_type': 'mobile'}\n",
      "{'valid': True, 'number': '12677955739', 'local_format': '2677955739', 'international_format': '+12677955739', 'country_prefix': '+1', 'country_code': 'US', 'country_name': 'United States of America', 'location': 'Morrisvl', 'carrier': '', 'line_type': 'landline'}\n",
      "{'valid': True, 'number': '12675132906', 'local_format': '2675132906', 'international_format': '+12675132906', 'country_prefix': '+1', 'country_code': 'US', 'country_name': 'United States of America', 'location': 'Phphsbzn33', 'carrier': '', 'line_type': 'landline'}\n",
      "{'valid': True, 'number': '12675090326', 'local_format': '2675090326', 'international_format': '+12675090326', 'country_prefix': '+1', 'country_code': 'US', 'country_name': 'United States of America', 'location': 'Bedminster', 'carrier': '', 'line_type': 'landline'}\n",
      "{'valid': True, 'number': '12673994238', 'local_format': '2673994238', 'international_format': '+12673994238', 'country_prefix': '+1', 'country_code': 'US', 'country_name': 'United States of America', 'location': 'Yardley', 'carrier': '', 'line_type': 'landline'}\n",
      "{'valid': True, 'number': '12675862415', 'local_format': '2675862415', 'international_format': '+12675862415', 'country_prefix': '+1', 'country_code': 'US', 'country_name': 'United States of America', 'location': 'Phldlphzn1', 'carrier': 'AT&T Mobility LLC', 'line_type': 'mobile'}\n",
      "{'valid': False, 'number': '12678062628', 'local_format': '', 'international_format': '', 'country_prefix': '', 'country_code': '', 'country_name': '', 'location': '', 'carrier': '', 'line_type': None}\n",
      "{'valid': True, 'number': '12678003832', 'local_format': '2678003832', 'international_format': '+12678003832', 'country_prefix': '+1', 'country_code': 'US', 'country_name': 'United States of America', 'location': 'Phldlphzn1', 'carrier': '', 'line_type': 'landline'}\n",
      "{'valid': True, 'number': '12675252614', 'local_format': '2675252614', 'international_format': '+12675252614', 'country_prefix': '+1', 'country_code': 'US', 'country_name': 'United States of America', 'location': 'Phphsbzn41', 'carrier': '', 'line_type': 'landline'}\n",
      "{'valid': True, 'number': '12674195869', 'local_format': '2674195869', 'international_format': '+12674195869', 'country_prefix': '+1', 'country_code': 'US', 'country_name': 'United States of America', 'location': 'Phphsbzn33', 'carrier': '', 'line_type': 'landline'}\n",
      "{'valid': False, 'number': '12678535596', 'local_format': '', 'international_format': '', 'country_prefix': '', 'country_code': '', 'country_name': '', 'location': '', 'carrier': '', 'line_type': None}\n",
      "{'valid': True, 'number': '12678678867', 'local_format': '2678678867', 'international_format': '+12678678867', 'country_prefix': '+1', 'country_code': 'US', 'country_name': 'United States of America', 'location': 'Dublin', 'carrier': '', 'line_type': 'landline'}\n",
      "{'valid': True, 'number': '12675982092', 'local_format': '2675982092', 'international_format': '+12675982092', 'country_prefix': '+1', 'country_code': 'US', 'country_name': 'United States of America', 'location': 'Phphsbzn44', 'carrier': '', 'line_type': 'landline'}\n",
      "{'valid': True, 'number': '12677611254', 'local_format': '2677611254', 'international_format': '+12677611254', 'country_prefix': '+1', 'country_code': 'US', 'country_name': 'United States of America', 'location': 'Phldlphzn1', 'carrier': '', 'line_type': 'landline'}\n",
      "{'valid': True, 'number': '12678437753', 'local_format': '2678437753', 'international_format': '+12678437753', 'country_prefix': '+1', 'country_code': 'US', 'country_name': 'United States of America', 'location': 'Buckingham', 'carrier': '', 'line_type': 'landline'}\n",
      "{'valid': True, 'number': '12677890078', 'local_format': '2677890078', 'international_format': '+12677890078', 'country_prefix': '+1', 'country_code': 'US', 'country_name': 'United States of America', 'location': 'Phphsbzn43', 'carrier': '', 'line_type': 'landline'}\n",
      "{'valid': True, 'number': '12673651319', 'local_format': '2673651319', 'international_format': '+12673651319', 'country_prefix': '+1', 'country_code': 'US', 'country_name': 'United States of America', 'location': 'Plumstedvl', 'carrier': '', 'line_type': 'landline'}\n",
      "{'valid': True, 'number': '12676475001', 'local_format': '2676475001', 'international_format': '+12676475001', 'country_prefix': '+1', 'country_code': 'US', 'country_name': 'United States of America', 'location': 'Lansdale', 'carrier': '', 'line_type': 'landline'}\n",
      "{'valid': True, 'number': '12673149776', 'local_format': '2673149776', 'international_format': '+12673149776', 'country_prefix': '+1', 'country_code': 'US', 'country_name': 'United States of America', 'location': 'Phldlphzn1', 'carrier': 'Cellco Partnership (Verizon Wireless)', 'line_type': 'mobile'}\n",
      "{'valid': True, 'number': '12675174142', 'local_format': '2675174142', 'international_format': '+12675174142', 'country_prefix': '+1', 'country_code': 'US', 'country_name': 'United States of America', 'location': 'Perkasie', 'carrier': '', 'line_type': 'landline'}\n",
      "{'valid': True, 'number': '12674874684', 'local_format': '2674874684', 'international_format': '+12674874684', 'country_prefix': '+1', 'country_code': 'US', 'country_name': 'United States of America', 'location': 'Phphsbzn45', 'carrier': '', 'line_type': 'landline'}\n",
      "{'valid': True, 'number': '12679471793', 'local_format': '2679471793', 'international_format': '+12679471793', 'country_prefix': '+1', 'country_code': 'US', 'country_name': 'United States of America', 'location': 'Phphsbzn38', 'carrier': '', 'line_type': 'landline'}\n",
      "{'valid': True, 'number': '12677149721', 'local_format': '2677149721', 'international_format': '+12677149721', 'country_prefix': '+1', 'country_code': 'US', 'country_name': 'United States of America', 'location': 'New Hope', 'carrier': '', 'line_type': 'landline'}\n",
      "{'valid': True, 'number': '12673647226', 'local_format': '2673647226', 'international_format': '+12673647226', 'country_prefix': '+1', 'country_code': 'US', 'country_name': 'United States of America', 'location': 'Newtown', 'carrier': '', 'line_type': 'landline'}\n",
      "{'valid': False, 'number': '12679460546', 'local_format': '', 'international_format': '', 'country_prefix': '', 'country_code': '', 'country_name': '', 'location': '', 'carrier': '', 'line_type': None}\n",
      "{'valid': False, 'number': '12679934058', 'local_format': '', 'international_format': '', 'country_prefix': '', 'country_code': '', 'country_name': '', 'location': '', 'carrier': '', 'line_type': None}\n",
      "{'valid': True, 'number': '12678721015', 'local_format': '2678721015', 'international_format': '+12678721015', 'country_prefix': '+1', 'country_code': 'US', 'country_name': 'United States of America', 'location': 'Phldlphzn1', 'carrier': 'AT&T Mobility LLC', 'line_type': 'mobile'}\n",
      "{'valid': True, 'number': '12675879786', 'local_format': '2675879786', 'international_format': '+12675879786', 'country_prefix': '+1', 'country_code': 'US', 'country_name': 'United States of America', 'location': 'Phphsbzn44', 'carrier': '', 'line_type': 'landline'}\n",
      "{'valid': True, 'number': '12675897459', 'local_format': '2675897459', 'international_format': '+12675897459', 'country_prefix': '+1', 'country_code': 'US', 'country_name': 'United States of America', 'location': 'Phphsbzn41', 'carrier': '', 'line_type': 'landline'}\n"
     ]
    },
    {
     "name": "stdout",
     "output_type": "stream",
     "text": [
      "{'valid': True, 'number': '12673885491', 'local_format': '2673885491', 'international_format': '+12673885491', 'country_prefix': '+1', 'country_code': 'US', 'country_name': 'United States of America', 'location': 'Phldlphzn4', 'carrier': '', 'line_type': 'landline'}\n",
      "{'valid': True, 'number': '12675907260', 'local_format': '2675907260', 'international_format': '+12675907260', 'country_prefix': '+1', 'country_code': 'US', 'country_name': 'United States of America', 'location': 'Phphsbzn44', 'carrier': '', 'line_type': 'landline'}\n",
      "{'valid': True, 'number': '12675319117', 'local_format': '2675319117', 'international_format': '+12675319117', 'country_prefix': '+1', 'country_code': 'US', 'country_name': 'United States of America', 'location': 'Phldlphzn2', 'carrier': '', 'line_type': 'landline'}\n",
      "{'valid': True, 'number': '12676449080', 'local_format': '2676449080', 'international_format': '+12676449080', 'country_prefix': '+1', 'country_code': 'US', 'country_name': 'United States of America', 'location': 'Lansdale', 'carrier': '', 'line_type': 'landline'}\n",
      "{'valid': True, 'number': '12675819513', 'local_format': '2675819513', 'international_format': '+12675819513', 'country_prefix': '+1', 'country_code': 'US', 'country_name': 'United States of America', 'location': 'Phldlphzn1', 'carrier': 'AT&T Mobility LLC', 'line_type': 'mobile'}\n",
      "{'valid': True, 'number': '12674546568', 'local_format': '2674546568', 'international_format': '+12674546568', 'country_prefix': '+1', 'country_code': 'US', 'country_name': 'United States of America', 'location': 'Doylestown', 'carrier': 'Cellco Partnership (Verizon Wireless)', 'line_type': 'mobile'}\n",
      "{'valid': True, 'number': '12676325755', 'local_format': '2676325755', 'international_format': '+12676325755', 'country_prefix': '+1', 'country_code': 'US', 'country_name': 'United States of America', 'location': 'Phphsbzn40', 'carrier': '', 'line_type': 'landline'}\n",
      "{'valid': True, 'number': '12678598859', 'local_format': '2678598859', 'international_format': '+12678598859', 'country_prefix': '+1', 'country_code': 'US', 'country_name': 'United States of America', 'location': 'Phphsbzn42', 'carrier': '', 'line_type': 'landline'}\n",
      "{'valid': True, 'number': '12675437339', 'local_format': '2675437339', 'international_format': '+12675437339', 'country_prefix': '+1', 'country_code': 'US', 'country_name': 'United States of America', 'location': 'Phphsbzn42', 'carrier': '', 'line_type': 'landline'}\n",
      "{'valid': True, 'number': '12672563144', 'local_format': '2672563144', 'international_format': '+12672563144', 'country_prefix': '+1', 'country_code': 'US', 'country_name': 'United States of America', 'location': 'Phldlphzn1', 'carrier': '', 'line_type': 'landline'}\n",
      "{'valid': True, 'number': '12672375113', 'local_format': '2672375113', 'international_format': '+12672375113', 'country_prefix': '+1', 'country_code': 'US', 'country_name': 'United States of America', 'location': 'Phldlphzn1', 'carrier': 'T-Mobile USA Inc.', 'line_type': 'mobile'}\n"
     ]
    }
   ],
   "source": [
    "for num in Num[\"PN\"]:\n",
    "    print(validtest(num))"
   ]
  },
  {
   "cell_type": "code",
   "execution_count": 219,
   "metadata": {},
   "outputs": [],
   "source": [
    "res= pd.Series(list)\n",
    "Num[\"Label\"]=res.values"
   ]
  },
  {
   "cell_type": "code",
   "execution_count": 214,
   "metadata": {},
   "outputs": [
    {
     "data": {
      "text/plain": [
       "186"
      ]
     },
     "execution_count": 214,
     "metadata": {},
     "output_type": "execute_result"
    }
   ],
   "source": [
    "#Counts of valid numbers\n",
    "sum(list)"
   ]
  },
  {
   "cell_type": "code",
   "execution_count": 224,
   "metadata": {},
   "outputs": [
    {
     "data": {
      "text/plain": [
       "{'carrier': 'Sprint Corp.',\n",
       " 'country_code': 'US',\n",
       " 'country_name': 'United States of America',\n",
       " 'country_prefix': '+1',\n",
       " 'international_format': '+18122873072',\n",
       " 'line_type': 'mobile',\n",
       " 'local_format': '8122873072',\n",
       " 'location': 'Bloomingtn',\n",
       " 'number': '18122873072',\n",
       " 'valid': True}"
      ]
     },
     "execution_count": 224,
     "metadata": {},
     "output_type": "execute_result"
    }
   ],
   "source": [
    "#Test single number\n",
    "validtest(\"my number\")"
   ]
  },
  {
   "cell_type": "code",
   "execution_count": 226,
   "metadata": {},
   "outputs": [
    {
     "data": {
      "text/html": [
       "<div>\n",
       "<style scoped>\n",
       "    .dataframe tbody tr th:only-of-type {\n",
       "        vertical-align: middle;\n",
       "    }\n",
       "\n",
       "    .dataframe tbody tr th {\n",
       "        vertical-align: top;\n",
       "    }\n",
       "\n",
       "    .dataframe thead th {\n",
       "        text-align: right;\n",
       "    }\n",
       "</style>\n",
       "<table border=\"1\" class=\"dataframe\">\n",
       "  <thead>\n",
       "    <tr style=\"text-align: right;\">\n",
       "      <th></th>\n",
       "      <th>ID</th>\n",
       "      <th>Phone</th>\n",
       "      <th>Response</th>\n",
       "      <th>Party</th>\n",
       "      <th>Age</th>\n",
       "      <th>Code</th>\n",
       "      <th>PN</th>\n",
       "      <th>Label</th>\n",
       "    </tr>\n",
       "  </thead>\n",
       "  <tbody>\n",
       "    <tr>\n",
       "      <th>0</th>\n",
       "      <td>1</td>\n",
       "      <td>4310454</td>\n",
       "      <td>NaN</td>\n",
       "      <td>NaN</td>\n",
       "      <td>NaN</td>\n",
       "      <td>267</td>\n",
       "      <td>2674310454</td>\n",
       "      <td>1</td>\n",
       "    </tr>\n",
       "    <tr>\n",
       "      <th>1</th>\n",
       "      <td>2</td>\n",
       "      <td>6920338</td>\n",
       "      <td>NaN</td>\n",
       "      <td>NaN</td>\n",
       "      <td>NaN</td>\n",
       "      <td>267</td>\n",
       "      <td>2676920338</td>\n",
       "      <td>1</td>\n",
       "    </tr>\n",
       "    <tr>\n",
       "      <th>2</th>\n",
       "      <td>3</td>\n",
       "      <td>6918070</td>\n",
       "      <td>NaN</td>\n",
       "      <td>NaN</td>\n",
       "      <td>NaN</td>\n",
       "      <td>267</td>\n",
       "      <td>2676918070</td>\n",
       "      <td>1</td>\n",
       "    </tr>\n",
       "    <tr>\n",
       "      <th>3</th>\n",
       "      <td>4</td>\n",
       "      <td>3605305</td>\n",
       "      <td>NaN</td>\n",
       "      <td>NaN</td>\n",
       "      <td>NaN</td>\n",
       "      <td>267</td>\n",
       "      <td>2673605305</td>\n",
       "      <td>1</td>\n",
       "    </tr>\n",
       "    <tr>\n",
       "      <th>4</th>\n",
       "      <td>5</td>\n",
       "      <td>8892229</td>\n",
       "      <td>NaN</td>\n",
       "      <td>NaN</td>\n",
       "      <td>NaN</td>\n",
       "      <td>267</td>\n",
       "      <td>2678892229</td>\n",
       "      <td>1</td>\n",
       "    </tr>\n",
       "  </tbody>\n",
       "</table>\n",
       "</div>"
      ],
      "text/plain": [
       "   ID    Phone  Response  Party  Age  Code          PN  Label\n",
       "0   1  4310454       NaN    NaN  NaN   267  2674310454      1\n",
       "1   2  6920338       NaN    NaN  NaN   267  2676920338      1\n",
       "2   3  6918070       NaN    NaN  NaN   267  2676918070      1\n",
       "3   4  3605305       NaN    NaN  NaN   267  2673605305      1\n",
       "4   5  8892229       NaN    NaN  NaN   267  2678892229      1"
      ]
     },
     "execution_count": 226,
     "metadata": {},
     "output_type": "execute_result"
    }
   ],
   "source": [
    "Num.head()"
   ]
  },
  {
   "cell_type": "code",
   "execution_count": 221,
   "metadata": {},
   "outputs": [],
   "source": [
    "Num.to_excel('data_set.xlsx')"
   ]
  }
 ],
 "metadata": {
  "kernelspec": {
   "display_name": "Python 3",
   "language": "python",
   "name": "python3"
  },
  "language_info": {
   "codemirror_mode": {
    "name": "ipython",
    "version": 3
   },
   "file_extension": ".py",
   "mimetype": "text/x-python",
   "name": "python",
   "nbconvert_exporter": "python",
   "pygments_lexer": "ipython3",
   "version": "3.6.1"
  }
 },
 "nbformat": 4,
 "nbformat_minor": 2
}
