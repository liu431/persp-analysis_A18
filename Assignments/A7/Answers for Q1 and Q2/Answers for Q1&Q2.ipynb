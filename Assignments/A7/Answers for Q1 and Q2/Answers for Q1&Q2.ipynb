{
 "cells": [
  {
   "cell_type": "markdown",
   "metadata": {},
   "source": [
    "### Assignment 7 \n",
    "\n",
    "MACS 30000\n",
    "\n",
    "LI LIU\n",
    "\n",
    "11/19/2018"
   ]
  },
  {
   "cell_type": "markdown",
   "metadata": {},
   "source": [
    "#### Q1. Unit Testing in Python"
   ]
  },
  {
   "cell_type": "markdown",
   "metadata": {},
   "source": [
    "Problem 1"
   ]
  },
  {
   "cell_type": "code",
   "execution_count": 1,
   "metadata": {
    "collapsed": true
   },
   "outputs": [],
   "source": [
    "#Original Function\n",
    "def smallest_factor(n):\n",
    "    \"\"\"Return the smallest prime factor of the positive integer n.\"\"\"\n",
    "    if n == 1: return 1\n",
    "    for i in range(2, int(n**.5)):\n",
    "        if n % i == 0: return i\n",
    "    return n"
   ]
  },
  {
   "cell_type": "code",
   "execution_count": null,
   "metadata": {
    "collapsed": true
   },
   "outputs": [],
   "source": [
    "#Test Cases\n",
    "import p1\n",
    "def test_smallest_factor():\n",
    "    assert p1.smallest_factor(1) == 1\n",
    "    assert p1.smallest_factor(2) == 2\n",
    "    assert p1.smallest_factor(3) == 3\n",
    "    assert p1.smallest_factor(4) == 2\n",
    "    assert p1.smallest_factor(5) == 5\n",
    "    assert p1.smallest_factor(6) == 2\n",
    "    assert p1.smallest_factor(9) == 3\n",
    "    assert p1.smallest_factor(100) == 2"
   ]
  },
  {
   "cell_type": "markdown",
   "metadata": {},
   "source": [
    "![title](1.1a.JPG)"
   ]
  },
  {
   "cell_type": "markdown",
   "metadata": {},
   "source": [
    "The function fails when n=4. The smallest prime factor should be 2, not 4. This is because 2 is not in the `range(2, int(4**.5))`. We should correct it to be `range(2, int(n**.5)+1)`."
   ]
  },
  {
   "cell_type": "code",
   "execution_count": 98,
   "metadata": {
    "collapsed": true
   },
   "outputs": [],
   "source": [
    "#Corrected Function\n",
    "def smallest_factor(n):\n",
    "    \"\"\"Return the smallest prime factor of the positive integer n.\"\"\"\n",
    "    if n == 1: return 1\n",
    "    for i in range(2, int(n**.5)+1):\n",
    "        if n % i == 0: return i\n",
    "    return n\n",
    "\n"
   ]
  },
  {
   "cell_type": "markdown",
   "metadata": {},
   "source": [
    "![title](1.1b.JPG)"
   ]
  },
  {
   "cell_type": "markdown",
   "metadata": {},
   "source": [
    "Problem 2"
   ]
  },
  {
   "cell_type": "markdown",
   "metadata": {},
   "source": [
    "Smallest_factor function passed all the test cases with full coverage!"
   ]
  },
  {
   "cell_type": "markdown",
   "metadata": {},
   "source": [
    "![title](1.1b2.JPG)"
   ]
  },
  {
   "cell_type": "code",
   "execution_count": 99,
   "metadata": {
    "collapsed": true
   },
   "outputs": [],
   "source": [
    "#Original Function\n",
    "def month_length(month, leap_year=False):\n",
    "    \"\"\"Return the number of days in the given month.\"\"\"\n",
    "    if month in {\"September\", \"April\", \"June\", \"November\"}:\n",
    "        return 30\n",
    "    elif month in {\"January\", \"March\", \"May\", \"July\",\"August\", \"October\", \"December\"}:\n",
    "        return 31\n",
    "    if month == \"February\":\n",
    "        if not leap_year:\n",
    "            return 28\n",
    "        else:\n",
    "            return 29\n",
    "    else:\n",
    "        return None"
   ]
  },
  {
   "cell_type": "code",
   "execution_count": 100,
   "metadata": {
    "collapsed": true
   },
   "outputs": [],
   "source": [
    "#Test Cases\n",
    "import p2\n",
    "def test_month_length():\n",
    "    assert p2.month_length(\"January\") == 31\n",
    "    assert p2.month_length(\"February\") == 28\n",
    "    assert p2.month_length(\"February\",leap_year=True) == 29\n",
    "    assert p2.month_length(\"March\") == 31\n",
    "    assert p2.month_length(\"April\") == 30\n",
    "    assert p2.month_length(\"May\") == 31\n",
    "    assert p2.month_length(\"June\") == 30\n",
    "    assert p2.month_length(\"July\") == 31\n",
    "    assert p2.month_length(\"August\") == 31\n",
    "    assert p2.month_length(\"September\") == 30\n",
    "    assert p2.month_length(\"October\") == 31\n",
    "    assert p2.month_length(\"November\") == 30\n",
    "    assert p2.month_length(\"December\") == 31\n",
    "    assert p2.month_length(\"empty\") == None"
   ]
  },
  {
   "cell_type": "markdown",
   "metadata": {},
   "source": [
    "![title](1.2.JPG)"
   ]
  },
  {
   "cell_type": "markdown",
   "metadata": {},
   "source": [
    "Problem 3"
   ]
  },
  {
   "cell_type": "code",
   "execution_count": 101,
   "metadata": {
    "collapsed": true
   },
   "outputs": [],
   "source": [
    "#Original Function\n",
    "def operate(a, b, oper):\n",
    "    \"\"\"Apply an arithmetic operation to a and b.\"\"\"\n",
    "    if type(oper) is not str:\n",
    "        raise TypeError(\"oper must be a string\")\n",
    "    elif oper == '+':\n",
    "        return a + b\n",
    "    elif oper == '-':\n",
    "        return a - b\n",
    "    elif oper == '*':\n",
    "        return a * b\n",
    "    elif oper == '/':\n",
    "        if b == 0:\n",
    "            raise ZeroDivisionError(\"division by zero is undefined\")\n",
    "        return a / b\n",
    "    raise ValueError(\"oper must be one of '+', '/', '-', or '*'\")"
   ]
  },
  {
   "cell_type": "code",
   "execution_count": 102,
   "metadata": {
    "collapsed": true
   },
   "outputs": [],
   "source": [
    "#Test Cases\n",
    "import p3\n",
    "import pytest\n",
    "def test_operate():\n",
    "    assert p3.operate(2,3,'+')==5\n",
    "    assert p3.operate(2,3,'-')==-1\n",
    "    assert p3.operate(2,3,'*')==6\n",
    "    assert p3.operate(2,3,'/')==2/3\n",
    "    \n",
    "    with pytest.raises(ZeroDivisionError) as err:\n",
    "        p3.operate(2,0,'/')\n",
    "    assert err.value.args[0]==\"division by zero is undefined\"\n",
    "\n",
    "    with pytest.raises(TypeError) as err2:\n",
    "        p3.operate(2,0,0)\n",
    "    assert err2.value.args[0]==\"oper must be a string\"\n",
    "\n",
    "    with pytest.raises(ValueError) as err3:\n",
    "        p3.operate(2,0,'>')\n",
    "    assert err3.value.args[0]==\"oper must be one of '+', '/', '-', or '*'\""
   ]
  },
  {
   "cell_type": "markdown",
   "metadata": {},
   "source": [
    "![title](1.3.JPG)"
   ]
  },
  {
   "cell_type": "markdown",
   "metadata": {},
   "source": [
    "![title](1.3cov.JPG)"
   ]
  },
  {
   "cell_type": "markdown",
   "metadata": {},
   "source": [
    "![title](1.3cov-test.JPG)"
   ]
  },
  {
   "cell_type": "markdown",
   "metadata": {},
   "source": [
    "#### Q2. Test driven development"
   ]
  },
  {
   "cell_type": "code",
   "execution_count": 5,
   "metadata": {},
   "outputs": [],
   "source": [
    "#2a and 2b\n",
    "import numpy as np\n",
    "def get_r(K, L, alpha, Z, delta):\n",
    "    '''This function generates the interest rate or vector of interest rates'''\n",
    "    assert alpha>0 and alpha<1,\"outside the range of capital share of income\"\n",
    "    assert delta>=0 and delta<1,\"outside the range of depreciation rate\"\n",
    "    assert Z>0,\"outside the range of total factor productivity\"\n",
    "    r=alpha*Z*((L/K)**(1-alpha))-delta\n",
    "    if type(K)==float and type(L)==float:\n",
    "        assert type(r)==float, \"Doesn't satisfy this condition: if K and L are both scalars,this function should return a scalar interest rate\"\n",
    "    if not np.isscalar(K) and not np.isscalar(L) :\n",
    "        assert not np.isscalar(r), \"Doesn't satisfy this condition: if K and L are both vectors, this function should return a corresponding vector of interest rates\"\n",
    "    return r\n",
    "#2c"
   ]
  },
  {
   "cell_type": "markdown",
   "metadata": {},
   "source": [
    "#2c\n",
    "The function passes all the tests with full coverage."
   ]
  },
  {
   "cell_type": "markdown",
   "metadata": {},
   "source": [
    "![title](2c.JPG)"
   ]
  },
  {
   "cell_type": "markdown",
   "metadata": {},
   "source": [
    "#### Q3. Watts (2014)"
   ]
  },
  {
   "cell_type": "markdown",
   "metadata": {
    "collapsed": true
   },
   "source": [
    "See attached pdf \"Watts-Response\""
   ]
  }
 ],
 "metadata": {
  "kernelspec": {
   "display_name": "Python 3",
   "language": "python",
   "name": "python3"
  },
  "language_info": {
   "codemirror_mode": {
    "name": "ipython",
    "version": 3
   },
   "file_extension": ".py",
   "mimetype": "text/x-python",
   "name": "python",
   "nbconvert_exporter": "python",
   "pygments_lexer": "ipython3",
   "version": "3.6.1"
  }
 },
 "nbformat": 4,
 "nbformat_minor": 2
}
