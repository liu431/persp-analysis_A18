{
 "cells": [
  {
   "cell_type": "markdown",
   "metadata": {},
   "source": [
    "# Assignment 2"
   ]
  },
  {
   "cell_type": "markdown",
   "metadata": {},
   "source": [
    "### MACS 30000\n",
    "### Li Liu"
   ]
  },
  {
   "cell_type": "markdown",
   "metadata": {},
   "source": [
    "Due Wednesday, Oct. 17 at 11:30 AM"
   ]
  },
  {
   "cell_type": "markdown",
   "metadata": {},
   "source": [
    "### 1. Imputing age and gender"
   ]
  },
  {
   "cell_type": "markdown",
   "metadata": {},
   "source": [
    "#### (a) Propose a strategy for imputing age (age) and gender (female) variables into the BestIncome.txt data by using information from the SurveyIncome.txt data. Describe your proposed method, including equations."
   ]
  },
  {
   "cell_type": "markdown",
   "metadata": {},
   "source": [
    "We want to replace the missing values for _`age`_ and _`gender`_ in _`BestIncome`_ with substituted values. As _`BestIncome`_ and _`SurveyIncome`_ have common variables of _`totinc`_ (sum of `lab_inc` and `cap_inc` in `BestIncome`) and _`weight`_, we could predict the missing values using the regression models trained by _`SurveyIncome`_ data.\n",
    "\n",
    "Linear regression for _`age`_:\n",
    "\\begin{equation}\n",
    "Age_i = \\alpha_0 + \\alpha_1 totinc_i + \\alpha_2 wgt_i+\\epsilon_i\n",
    "\\end{equation}\n",
    "                   \n",
    "                    \n",
    "where:\n",
    "\n",
    "${\\alpha_0}$ is the intercept of the linear line on the y-axis\n",
    "     \n",
    "${\\alpha_1}$ and ${\\alpha_2}$ represent the marginal effect on age when variables change 1 unit\n",
    "\n",
    "${\\epsilon_i}$ is an error term (deviations of observations from the linear)\n",
    "\n",
    "\n",
    "Logistic regression for dichotomous variable _`gender`_:\n",
    "\n",
    "$$\n",
    "log(\\frac{p(X)}{1-P(X)})=\\beta_0 + \\beta_1 totinc_i + \\beta_2 wgt_i+\\epsilon_i\n",
    "$$\n",
    "where X=(_`totinc`_, _`wgt`_) are two predictors. The left-hand side is called the log-odds."
   ]
  },
  {
   "cell_type": "markdown",
   "metadata": {},
   "source": [
    "#### (b)Using your proposed method from part (a), impute the variables age (age) and gender (female) into the BestIncome.txt data."
   ]
  },
  {
   "cell_type": "code",
   "execution_count": 1,
   "metadata": {},
   "outputs": [
    {
     "name": "stderr",
     "output_type": "stream",
     "text": [
      "C:\\Anaconda\\lib\\site-packages\\statsmodels\\compat\\pandas.py:56: FutureWarning: The pandas.core.datetools module is deprecated and will be removed in a future version. Please use the pandas.tseries module instead.\n",
      "  from pandas.core import datetools\n"
     ]
    }
   ],
   "source": [
    "# Import packages\n",
    "import numpy as np\n",
    "import pandas as pd\n",
    "import statsmodels.api as sm\n",
    "import matplotlib.pyplot as plt\n",
    "plt.style.use('seaborn')\n",
    "import warnings\n",
    "warnings.filterwarnings(\"ignore\")"
   ]
  },
  {
   "cell_type": "code",
   "execution_count": 2,
   "metadata": {},
   "outputs": [
    {
     "data": {
      "text/html": [
       "<div>\n",
       "<style scoped>\n",
       "    .dataframe tbody tr th:only-of-type {\n",
       "        vertical-align: middle;\n",
       "    }\n",
       "\n",
       "    .dataframe tbody tr th {\n",
       "        vertical-align: top;\n",
       "    }\n",
       "\n",
       "    .dataframe thead th {\n",
       "        text-align: right;\n",
       "    }\n",
       "</style>\n",
       "<table border=\"1\" class=\"dataframe\">\n",
       "  <thead>\n",
       "    <tr style=\"text-align: right;\">\n",
       "      <th></th>\n",
       "      <th>lab_inc</th>\n",
       "      <th>cap_inc</th>\n",
       "      <th>hgt</th>\n",
       "      <th>wgt</th>\n",
       "    </tr>\n",
       "  </thead>\n",
       "  <tbody>\n",
       "    <tr>\n",
       "      <th>0</th>\n",
       "      <td>52655.605507</td>\n",
       "      <td>9279.509829</td>\n",
       "      <td>64.568138</td>\n",
       "      <td>152.920634</td>\n",
       "    </tr>\n",
       "    <tr>\n",
       "      <th>1</th>\n",
       "      <td>70586.979225</td>\n",
       "      <td>9451.016902</td>\n",
       "      <td>65.727648</td>\n",
       "      <td>159.534414</td>\n",
       "    </tr>\n",
       "    <tr>\n",
       "      <th>2</th>\n",
       "      <td>53738.008339</td>\n",
       "      <td>8078.132315</td>\n",
       "      <td>66.268796</td>\n",
       "      <td>152.502405</td>\n",
       "    </tr>\n",
       "    <tr>\n",
       "      <th>3</th>\n",
       "      <td>55128.180903</td>\n",
       "      <td>12692.670403</td>\n",
       "      <td>62.910559</td>\n",
       "      <td>149.218189</td>\n",
       "    </tr>\n",
       "    <tr>\n",
       "      <th>4</th>\n",
       "      <td>44482.794867</td>\n",
       "      <td>9812.975746</td>\n",
       "      <td>68.678295</td>\n",
       "      <td>152.726358</td>\n",
       "    </tr>\n",
       "  </tbody>\n",
       "</table>\n",
       "</div>"
      ],
      "text/plain": [
       "        lab_inc       cap_inc        hgt         wgt\n",
       "0  52655.605507   9279.509829  64.568138  152.920634\n",
       "1  70586.979225   9451.016902  65.727648  159.534414\n",
       "2  53738.008339   8078.132315  66.268796  152.502405\n",
       "3  55128.180903  12692.670403  62.910559  149.218189\n",
       "4  44482.794867   9812.975746  68.678295  152.726358"
      ]
     },
     "execution_count": 2,
     "metadata": {},
     "output_type": "execute_result"
    }
   ],
   "source": [
    "# Read in data, name four variables, descrptive statistics\n",
    "Best = pd.read_csv('BestIncome.txt', header=None,names = ['lab_inc','cap_inc','hgt','wgt'])\n",
    "Best.head()"
   ]
  },
  {
   "cell_type": "code",
   "execution_count": 3,
   "metadata": {},
   "outputs": [
    {
     "data": {
      "text/html": [
       "<div>\n",
       "<style scoped>\n",
       "    .dataframe tbody tr th:only-of-type {\n",
       "        vertical-align: middle;\n",
       "    }\n",
       "\n",
       "    .dataframe tbody tr th {\n",
       "        vertical-align: top;\n",
       "    }\n",
       "\n",
       "    .dataframe thead th {\n",
       "        text-align: right;\n",
       "    }\n",
       "</style>\n",
       "<table border=\"1\" class=\"dataframe\">\n",
       "  <thead>\n",
       "    <tr style=\"text-align: right;\">\n",
       "      <th></th>\n",
       "      <th>tot_inc</th>\n",
       "      <th>wgt</th>\n",
       "      <th>age</th>\n",
       "      <th>female</th>\n",
       "    </tr>\n",
       "  </thead>\n",
       "  <tbody>\n",
       "    <tr>\n",
       "      <th>0</th>\n",
       "      <td>63642.513655</td>\n",
       "      <td>134.998269</td>\n",
       "      <td>46.610021</td>\n",
       "      <td>1.0</td>\n",
       "    </tr>\n",
       "    <tr>\n",
       "      <th>1</th>\n",
       "      <td>49177.380692</td>\n",
       "      <td>134.392957</td>\n",
       "      <td>48.791349</td>\n",
       "      <td>1.0</td>\n",
       "    </tr>\n",
       "    <tr>\n",
       "      <th>2</th>\n",
       "      <td>67833.339128</td>\n",
       "      <td>126.482992</td>\n",
       "      <td>48.429894</td>\n",
       "      <td>1.0</td>\n",
       "    </tr>\n",
       "    <tr>\n",
       "      <th>3</th>\n",
       "      <td>62962.266217</td>\n",
       "      <td>128.038121</td>\n",
       "      <td>41.543926</td>\n",
       "      <td>1.0</td>\n",
       "    </tr>\n",
       "    <tr>\n",
       "      <th>4</th>\n",
       "      <td>58716.952597</td>\n",
       "      <td>126.211980</td>\n",
       "      <td>41.201245</td>\n",
       "      <td>1.0</td>\n",
       "    </tr>\n",
       "  </tbody>\n",
       "</table>\n",
       "</div>"
      ],
      "text/plain": [
       "        tot_inc         wgt        age  female\n",
       "0  63642.513655  134.998269  46.610021     1.0\n",
       "1  49177.380692  134.392957  48.791349     1.0\n",
       "2  67833.339128  126.482992  48.429894     1.0\n",
       "3  62962.266217  128.038121  41.543926     1.0\n",
       "4  58716.952597  126.211980  41.201245     1.0"
      ]
     },
     "execution_count": 3,
     "metadata": {},
     "output_type": "execute_result"
    }
   ],
   "source": [
    "Surv = pd.read_csv('SurvIncome.txt', header = None,names = ['tot_inc','wgt','age','female'])\n",
    "Surv.head()"
   ]
  },
  {
   "cell_type": "markdown",
   "metadata": {},
   "source": [
    "#### Impute `age` in `BestIncome` using the models constructed from `SurveyIncome`\n"
   ]
  },
  {
   "cell_type": "code",
   "execution_count": 32,
   "metadata": {},
   "outputs": [
    {
     "name": "stdout",
     "output_type": "stream",
     "text": [
      "                            OLS Regression Results                            \n",
      "==============================================================================\n",
      "Dep. Variable:                    age   R-squared:                       0.001\n",
      "Model:                            OLS   Adj. R-squared:                 -0.001\n",
      "Method:                 Least Squares   F-statistic:                    0.6326\n",
      "Date:                Wed, 17 Oct 2018   Prob (F-statistic):              0.531\n",
      "Time:                        09:58:44   Log-Likelihood:                -3199.4\n",
      "No. Observations:                1000   AIC:                             6405.\n",
      "Df Residuals:                     997   BIC:                             6419.\n",
      "Df Model:                           2                                         \n",
      "Covariance Type:            nonrobust                                         \n",
      "==============================================================================\n",
      "                 coef    std err          t      P>|t|      [0.025      0.975]\n",
      "------------------------------------------------------------------------------\n",
      "wgt           -0.0067      0.010     -0.686      0.493      -0.026       0.013\n",
      "tot_inc      2.52e-05   2.26e-05      1.114      0.266   -1.92e-05    6.96e-05\n",
      "const         44.2097      1.490     29.666      0.000      41.285      47.134\n",
      "==============================================================================\n",
      "Omnibus:                        2.460   Durbin-Watson:                   1.921\n",
      "Prob(Omnibus):                  0.292   Jarque-Bera (JB):                2.322\n",
      "Skew:                          -0.109   Prob(JB):                        0.313\n",
      "Kurtosis:                       3.092   Cond. No.                     5.20e+05\n",
      "==============================================================================\n",
      "\n",
      "Warnings:\n",
      "[1] Standard Errors assume that the covariance matrix of the errors is correctly specified.\n",
      "[2] The condition number is large, 5.2e+05. This might indicate that there are\n",
      "strong multicollinearity or other numerical problems.\n"
     ]
    }
   ],
   "source": [
    "#OLS Regression for predicting 'age' using 'tot_inc' and 'wgt' uisng SurveyIncome\n",
    "X, y = sm.add_constant(Surv[['wgt','tot_inc']], prepend=False), Surv['age']\n",
    "m= sm.OLS(y, X).fit()\n",
    "print(m.summary())"
   ]
  },
  {
   "cell_type": "code",
   "execution_count": 5,
   "metadata": {
    "collapsed": true
   },
   "outputs": [],
   "source": [
    "# Apply the model to impute 'age' in BestIncome\n",
    "#tot_inc = F(K,L) = YK + YL = capital income + labor income='lab_inc'+'cap_inc'\n",
    "Best['tot_inc']=Best['lab_inc']+Best['cap_inc']\n",
    "Best['const'] = 1\n",
    "Best['age'] = m.predict(Best[['wgt', 'tot_inc', 'const']])"
   ]
  },
  {
   "cell_type": "markdown",
   "metadata": {},
   "source": [
    "#### Impute _`gender`_ in _`BestIncome`_ using the models constructed from _`SurveyIncome`_\n"
   ]
  },
  {
   "cell_type": "code",
   "execution_count": 33,
   "metadata": {},
   "outputs": [
    {
     "name": "stdout",
     "output_type": "stream",
     "text": [
      "Optimization terminated successfully.\n",
      "         Current function value: 0.036050\n",
      "         Iterations 11\n",
      "                           Logit Regression Results                           \n",
      "==============================================================================\n",
      "Dep. Variable:                 female   No. Observations:                 1000\n",
      "Model:                          Logit   Df Residuals:                      997\n",
      "Method:                           MLE   Df Model:                            2\n",
      "Date:                Wed, 17 Oct 2018   Pseudo R-squ.:                  0.9480\n",
      "Time:                        09:58:50   Log-Likelihood:                -36.050\n",
      "converged:                       True   LL-Null:                       -693.15\n",
      "                                        LLR p-value:                4.232e-286\n",
      "==============================================================================\n",
      "                 coef    std err          z      P>|z|      [0.025      0.975]\n",
      "------------------------------------------------------------------------------\n",
      "wgt           -0.4460      0.062     -7.219      0.000      -0.567      -0.325\n",
      "tot_inc       -0.0002   4.25e-05     -3.660      0.000      -0.000   -7.22e-05\n",
      "const         76.7929     10.569      7.266      0.000      56.078      97.508\n",
      "==============================================================================\n",
      "\n",
      "Possibly complete quasi-separation: A fraction 0.55 of observations can be\n",
      "perfectly predicted. This might indicate that there is complete\n",
      "quasi-separation. In this case some parameters will not be identified.\n"
     ]
    }
   ],
   "source": [
    "#Logistic Regression for predicting 'female' using 'tot_inc' and 'wgt' uisng SurveyIncome\n",
    "X, y = sm.add_constant(Surv[['wgt','tot_inc']], prepend=False), Surv['female']\n",
    "m2= sm.Logit(y, X).fit()\n",
    "print(m2.summary())"
   ]
  },
  {
   "cell_type": "code",
   "execution_count": 7,
   "metadata": {
    "collapsed": true
   },
   "outputs": [],
   "source": [
    "# Apply the model to impute 'female' in BestIncome\n",
    "#Define threshold of female=1 when p>=0.5, female=0 when p<0.5 \n",
    "Best['female'] = m2.predict(Best[['wgt','tot_inc', 'const']])\n",
    "Best['female'][Best['female']>0.5]=1\n",
    "Best['female'][Best['female']<0.5]=0\n"
   ]
  },
  {
   "cell_type": "code",
   "execution_count": 8,
   "metadata": {},
   "outputs": [
    {
     "data": {
      "text/html": [
       "<div>\n",
       "<style scoped>\n",
       "    .dataframe tbody tr th:only-of-type {\n",
       "        vertical-align: middle;\n",
       "    }\n",
       "\n",
       "    .dataframe tbody tr th {\n",
       "        vertical-align: top;\n",
       "    }\n",
       "\n",
       "    .dataframe thead th {\n",
       "        text-align: right;\n",
       "    }\n",
       "</style>\n",
       "<table border=\"1\" class=\"dataframe\">\n",
       "  <thead>\n",
       "    <tr style=\"text-align: right;\">\n",
       "      <th></th>\n",
       "      <th>lab_inc</th>\n",
       "      <th>cap_inc</th>\n",
       "      <th>hgt</th>\n",
       "      <th>wgt</th>\n",
       "      <th>tot_inc</th>\n",
       "      <th>const</th>\n",
       "      <th>age</th>\n",
       "      <th>female</th>\n",
       "    </tr>\n",
       "  </thead>\n",
       "  <tbody>\n",
       "    <tr>\n",
       "      <th>0</th>\n",
       "      <td>52655.605507</td>\n",
       "      <td>9279.509829</td>\n",
       "      <td>64.568138</td>\n",
       "      <td>152.920634</td>\n",
       "      <td>61935.115336</td>\n",
       "      <td>1</td>\n",
       "      <td>44.742614</td>\n",
       "      <td>0.0</td>\n",
       "    </tr>\n",
       "    <tr>\n",
       "      <th>1</th>\n",
       "      <td>70586.979225</td>\n",
       "      <td>9451.016902</td>\n",
       "      <td>65.727648</td>\n",
       "      <td>159.534414</td>\n",
       "      <td>80037.996127</td>\n",
       "      <td>1</td>\n",
       "      <td>45.154387</td>\n",
       "      <td>0.0</td>\n",
       "    </tr>\n",
       "    <tr>\n",
       "      <th>2</th>\n",
       "      <td>53738.008339</td>\n",
       "      <td>8078.132315</td>\n",
       "      <td>66.268796</td>\n",
       "      <td>152.502405</td>\n",
       "      <td>61816.140654</td>\n",
       "      <td>1</td>\n",
       "      <td>44.742427</td>\n",
       "      <td>0.0</td>\n",
       "    </tr>\n",
       "    <tr>\n",
       "      <th>3</th>\n",
       "      <td>55128.180903</td>\n",
       "      <td>12692.670403</td>\n",
       "      <td>62.910559</td>\n",
       "      <td>149.218189</td>\n",
       "      <td>67820.851305</td>\n",
       "      <td>1</td>\n",
       "      <td>44.915836</td>\n",
       "      <td>0.0</td>\n",
       "    </tr>\n",
       "    <tr>\n",
       "      <th>4</th>\n",
       "      <td>44482.794867</td>\n",
       "      <td>9812.975746</td>\n",
       "      <td>68.678295</td>\n",
       "      <td>152.726358</td>\n",
       "      <td>54295.770612</td>\n",
       "      <td>1</td>\n",
       "      <td>44.551391</td>\n",
       "      <td>1.0</td>\n",
       "    </tr>\n",
       "  </tbody>\n",
       "</table>\n",
       "</div>"
      ],
      "text/plain": [
       "        lab_inc       cap_inc        hgt         wgt       tot_inc  const  \\\n",
       "0  52655.605507   9279.509829  64.568138  152.920634  61935.115336      1   \n",
       "1  70586.979225   9451.016902  65.727648  159.534414  80037.996127      1   \n",
       "2  53738.008339   8078.132315  66.268796  152.502405  61816.140654      1   \n",
       "3  55128.180903  12692.670403  62.910559  149.218189  67820.851305      1   \n",
       "4  44482.794867   9812.975746  68.678295  152.726358  54295.770612      1   \n",
       "\n",
       "         age  female  \n",
       "0  44.742614     0.0  \n",
       "1  45.154387     0.0  \n",
       "2  44.742427     0.0  \n",
       "3  44.915836     0.0  \n",
       "4  44.551391     1.0  "
      ]
     },
     "execution_count": 8,
     "metadata": {},
     "output_type": "execute_result"
    }
   ],
   "source": [
    "Best.head()"
   ]
  },
  {
   "cell_type": "markdown",
   "metadata": {},
   "source": [
    "#### (c) Report the descriptive statistics for my new imputed variables"
   ]
  },
  {
   "cell_type": "code",
   "execution_count": 9,
   "metadata": {},
   "outputs": [
    {
     "data": {
      "text/plain": [
       "mean        44.890828\n",
       "std          0.219150\n",
       "min         43.976495\n",
       "max         45.703819\n",
       "count    10000.000000\n",
       "Name: age, dtype: float64"
      ]
     },
     "execution_count": 9,
     "metadata": {},
     "output_type": "execute_result"
    }
   ],
   "source": [
    "Best['age'].describe()[['mean', 'std', 'min', 'max', 'count']]"
   ]
  },
  {
   "cell_type": "code",
   "execution_count": 10,
   "metadata": {},
   "outputs": [
    {
     "data": {
      "text/plain": [
       "mean         0.454600\n",
       "std          0.497959\n",
       "min          0.000000\n",
       "max          1.000000\n",
       "count    10000.000000\n",
       "Name: female, dtype: float64"
      ]
     },
     "execution_count": 10,
     "metadata": {},
     "output_type": "execute_result"
    }
   ],
   "source": [
    "Best['female'].describe()[['mean', 'std', 'min', 'max', 'count']]"
   ]
  },
  {
   "cell_type": "markdown",
   "metadata": {},
   "source": [
    "#### (d) Report the correlation matrix for the now six variables—labor income (lab inc, capital income cap inc , height (hgt), weight (wgt) age (age), and gender (female) —in the BestIncome.txt data."
   ]
  },
  {
   "cell_type": "code",
   "execution_count": 11,
   "metadata": {},
   "outputs": [
    {
     "data": {
      "image/png": "[encoded data removed]",
      "text/plain": [
       "<matplotlib.figure.Figure at 0x1d2c78672b0>"
      ]
     },
     "metadata": {},
     "output_type": "display_data"
    },
    {
     "name": "stdout",
     "output_type": "stream",
     "text": [
      "          lab_inc   cap_inc       hgt       wgt       age    female\n",
      "lab_inc  1.000000  0.005325  0.002790  0.004507  0.924053 -0.215469\n",
      "cap_inc  0.005325  1.000000  0.021572  0.006299  0.234159 -0.062569\n",
      "hgt      0.002790  0.021572  1.000000  0.172103 -0.045083 -0.127416\n",
      "wgt      0.004507  0.006299  0.172103  1.000000 -0.300288 -0.763821\n",
      "age      0.924053  0.234159 -0.045083 -0.300288  1.000000  0.020059\n",
      "female  -0.215469 -0.062569 -0.127416 -0.763821  0.020059  1.000000\n"
     ]
    }
   ],
   "source": [
    "# Correlation matrix\n",
    "\n",
    "def corr_plot(df):\n",
    "  \n",
    "    names = df.columns\n",
    "    N = len(names)\n",
    "    \n",
    "    correlations = df.corr()\n",
    "    fig = plt.figure()\n",
    "    ax = fig.add_subplot(111)\n",
    "    cax = ax.matshow(correlations, vmin=-1, vmax=1)\n",
    "    fig.colorbar(cax)\n",
    "    ticks = np.arange(0,N,1)\n",
    "    ax.set_xticks(ticks)\n",
    "    ax.set_yticks(ticks)\n",
    "    ax.set_xticklabels(names)\n",
    "    ax.set_yticklabels(names)\n",
    "    plt.show()\n",
    " \n",
    "corr_plot((Best[['lab_inc', 'cap_inc', 'hgt', 'wgt', 'age', 'female']]))\n",
    "corr=Best[['lab_inc', 'cap_inc', 'hgt', 'wgt', 'age', 'female']].corr()\n",
    "print(corr)\n"
   ]
  },
  {
   "cell_type": "markdown",
   "metadata": {},
   "source": [
    "### 2. Stationarity and data drift"
   ]
  },
  {
   "cell_type": "markdown",
   "metadata": {},
   "source": [
    "#### (a) Estimate by OLS and report coefficients"
   ]
  },
  {
   "cell_type": "code",
   "execution_count": 12,
   "metadata": {},
   "outputs": [
    {
     "data": {
      "text/html": [
       "<div>\n",
       "<style scoped>\n",
       "    .dataframe tbody tr th:only-of-type {\n",
       "        vertical-align: middle;\n",
       "    }\n",
       "\n",
       "    .dataframe tbody tr th {\n",
       "        vertical-align: top;\n",
       "    }\n",
       "\n",
       "    .dataframe thead th {\n",
       "        text-align: right;\n",
       "    }\n",
       "</style>\n",
       "<table border=\"1\" class=\"dataframe\">\n",
       "  <thead>\n",
       "    <tr style=\"text-align: right;\">\n",
       "      <th></th>\n",
       "      <th>grad_year</th>\n",
       "      <th>gre_qnt</th>\n",
       "      <th>salary_p4</th>\n",
       "    </tr>\n",
       "  </thead>\n",
       "  <tbody>\n",
       "    <tr>\n",
       "      <th>0</th>\n",
       "      <td>2001.0</td>\n",
       "      <td>739.737072</td>\n",
       "      <td>67400.475185</td>\n",
       "    </tr>\n",
       "    <tr>\n",
       "      <th>1</th>\n",
       "      <td>2001.0</td>\n",
       "      <td>721.811673</td>\n",
       "      <td>67600.584142</td>\n",
       "    </tr>\n",
       "    <tr>\n",
       "      <th>2</th>\n",
       "      <td>2001.0</td>\n",
       "      <td>736.277908</td>\n",
       "      <td>58704.880589</td>\n",
       "    </tr>\n",
       "    <tr>\n",
       "      <th>3</th>\n",
       "      <td>2001.0</td>\n",
       "      <td>770.498485</td>\n",
       "      <td>64707.290345</td>\n",
       "    </tr>\n",
       "    <tr>\n",
       "      <th>4</th>\n",
       "      <td>2001.0</td>\n",
       "      <td>735.002861</td>\n",
       "      <td>51737.324165</td>\n",
       "    </tr>\n",
       "  </tbody>\n",
       "</table>\n",
       "</div>"
      ],
      "text/plain": [
       "   grad_year     gre_qnt     salary_p4\n",
       "0     2001.0  739.737072  67400.475185\n",
       "1     2001.0  721.811673  67600.584142\n",
       "2     2001.0  736.277908  58704.880589\n",
       "3     2001.0  770.498485  64707.290345\n",
       "4     2001.0  735.002861  51737.324165"
      ]
     },
     "execution_count": 12,
     "metadata": {},
     "output_type": "execute_result"
    }
   ],
   "source": [
    "# Read in my third data set\n",
    "Data= pd.read_csv('IncomeIntel.txt', header=None,names = ['grad_year','gre_qnt','salary_p4'])\n",
    "Data.head()"
   ]
  },
  {
   "cell_type": "code",
   "execution_count": 13,
   "metadata": {},
   "outputs": [
    {
     "name": "stdout",
     "output_type": "stream",
     "text": [
      "                            OLS Regression Results                            \n",
      "==============================================================================\n",
      "Dep. Variable:              salary_p4   R-squared:                       0.263\n",
      "Model:                            OLS   Adj. R-squared:                  0.262\n",
      "Method:                 Least Squares   F-statistic:                     356.3\n",
      "Date:                Wed, 17 Oct 2018   Prob (F-statistic):           3.43e-68\n",
      "Time:                        09:44:59   Log-Likelihood:                -10673.\n",
      "No. Observations:                1000   AIC:                         2.135e+04\n",
      "Df Residuals:                     998   BIC:                         2.136e+04\n",
      "Df Model:                           1                                         \n",
      "Covariance Type:            nonrobust                                         \n",
      "==============================================================================\n",
      "                 coef    std err          t      P>|t|      [0.025      0.975]\n",
      "------------------------------------------------------------------------------\n",
      "gre_qnt      -25.7632      1.365    -18.875      0.000     -28.442     -23.085\n",
      "const       8.954e+04    878.764    101.895      0.000    8.78e+04    9.13e+04\n",
      "==============================================================================\n",
      "Omnibus:                        9.118   Durbin-Watson:                   1.424\n",
      "Prob(Omnibus):                  0.010   Jarque-Bera (JB):                9.100\n",
      "Skew:                           0.230   Prob(JB):                       0.0106\n",
      "Kurtosis:                       3.077   Cond. No.                     1.71e+03\n",
      "==============================================================================\n",
      "\n",
      "Warnings:\n",
      "[1] Standard Errors assume that the covariance matrix of the errors is correctly specified.\n",
      "[2] The condition number is large, 1.71e+03. This might indicate that there are\n",
      "strong multicollinearity or other numerical problems.\n"
     ]
    }
   ],
   "source": [
    "# Run regression model\n",
    "X, y = sm.add_constant(Data['gre_qnt'], prepend=False), Data['salary_p4']\n",
    "reg= sm.OLS(y, X).fit()\n",
    "print(reg.summary())"
   ]
  },
  {
   "cell_type": "markdown",
   "metadata": {},
   "source": [
    "The estimated regression model is :\n",
    "\n",
    "\\begin{equation}\n",
    "\\widehat{salary-p4_i} = 8.954*10^4 -25.7632 *\\widehat{gre_(qnt_i)}\n",
    "\\end{equation}\n",
    "\n",
    "where $\\beta_0$=8.954e+04 and $\\beta_1$=-25.7632   \n",
    "\n",
    "The standard errors are 878.764 for $\\beta_0$ and 1.365 for $\\beta_1$. "
   ]
  },
  {
   "cell_type": "markdown",
   "metadata": {},
   "source": [
    "#### (b) Create a scatterplot of GRE score and graduation year. "
   ]
  },
  {
   "cell_type": "code",
   "execution_count": 14,
   "metadata": {},
   "outputs": [
    {
     "data": {
      "image/png": "[encoded data removed]",
      "text/plain": [
       "<matplotlib.figure.Figure at 0x1d2c7da5f60>"
      ]
     },
     "metadata": {},
     "output_type": "display_data"
    }
   ],
   "source": [
    "Data.plot(x='grad_year', y='gre_qnt', kind='scatter')\n",
    "plt.show()"
   ]
  },
  {
   "cell_type": "markdown",
   "metadata": {},
   "source": [
    "The scoring scale for GRE quantitative part was changed to a 130-170 scale from the 200-800 scale in 2011. As a result, the values of scores since 2011 are much smaller than the ones before. This is a system drift (change in the system itself). If we don't recognize this issue, we'll probably overestimate the marginal effect of `gre_qnt` on predicting `salary_p4`. The hypothesis that the estimated coefficient $\\beta_1$ is zero will likely not be accepted using this raw data. \n",
    "\n",
    "One solution is to normalize the `gre_qnt`using z-score with each year. The standard scores are not affected by different scales.\n",
    "\n",
    "\\begin{equation}\n",
    "z_{i,j} = \\frac{gre\\_qnt_{i,j}-\\mu_j}{\\sigma_j}\n",
    "\\end{equation}\n",
    "\n",
    "where i means different observations within j-th year."
   ]
  },
  {
   "cell_type": "code",
   "execution_count": 29,
   "metadata": {
    "collapsed": true
   },
   "outputs": [],
   "source": [
    "Data['gre_qnt']=Data.groupby('grad_year').transform(lambda x: (x-x.mean())/x.std())['gre_qnt']"
   ]
  },
  {
   "cell_type": "code",
   "execution_count": 23,
   "metadata": {},
   "outputs": [
    {
     "data": {
      "image/png": "[encoded data removed]",
      "text/plain": [
       "<matplotlib.figure.Figure at 0x1d2c7f9e0f0>"
      ]
     },
     "metadata": {},
     "output_type": "display_data"
    }
   ],
   "source": [
    "#Scatter plot with z-score of 'gre_qnt`\n",
    "Data.plot(x='grad_year', y='gre_qnt', kind='scatter')\n",
    "plt.show()"
   ]
  },
  {
   "cell_type": "markdown",
   "metadata": {},
   "source": [
    "#### (c) Create a scatterplot of income and graduation year"
   ]
  },
  {
   "cell_type": "code",
   "execution_count": 17,
   "metadata": {},
   "outputs": [
    {
     "data": {
      "image/png": "[encoded data removed]",
      "text/plain": [
       "<matplotlib.figure.Figure at 0x1d2c7867710>"
      ]
     },
     "metadata": {},
     "output_type": "display_data"
    }
   ],
   "source": [
    "Data.plot(x='grad_year', y='salary_p4', kind='scatter')\n",
    "plt.show()"
   ]
  },
  {
   "cell_type": "markdown",
   "metadata": {},
   "source": [
    "Across different years, the means of income seem to be growing. Thus the `salary_p4` is not stationary. We need to de-trend this variable for the analysis. This could be done by calculating the average growth rate in salaries across all 13 years and dividing each salary by (1 + avg_growth_rate) ** (grad_year - 2001)."
   ]
  },
  {
   "cell_type": "code",
   "execution_count": 30,
   "metadata": {},
   "outputs": [],
   "source": [
    "#Calculate the mean salary each year\n",
    "avg_inc_by_year = Data['salary_p4'].groupby(Data['grad_year']).mean().values\n",
    "\n",
    "#Calculate the average growth rate in salaries across all 13 years\n",
    "avg_growth_rate = ((avg_inc_by_year[1:] - avg_inc_by_year[:-1]) / avg_inc_by_year[:-1]).mean()\n",
    "#avg_growth_rate=0.0308\n",
    "\n",
    "#Divide each salary by (1 + avg_growth_rate) ** (grad_year - 2001)\n",
    "Data['rate']=(1 + avg_growth_rate) ** (Data['grad_year']-2001)\n",
    "Data['salary_p4_new']=Data['salary_p4']/Data['rate']"
   ]
  },
  {
   "cell_type": "code",
   "execution_count": 31,
   "metadata": {},
   "outputs": [
    {
     "data": {
      "image/png": "[encoded data removed]",
      "text/plain": [
       "<matplotlib.figure.Figure at 0x1d2c82204e0>"
      ]
     },
     "metadata": {},
     "output_type": "display_data"
    }
   ],
   "source": [
    "Data.plot(x='grad_year', y='salary_p4_new', kind='scatter')\n",
    "plt.show()"
   ]
  },
  {
   "cell_type": "markdown",
   "metadata": {},
   "source": [
    "#### (d) Re-estimate coefficients with updated variables."
   ]
  },
  {
   "cell_type": "code",
   "execution_count": 27,
   "metadata": {},
   "outputs": [
    {
     "name": "stdout",
     "output_type": "stream",
     "text": [
      "                            OLS Regression Results                            \n",
      "==============================================================================\n",
      "Dep. Variable:          salary_p4_new   R-squared:                       0.000\n",
      "Model:                            OLS   Adj. R-squared:                 -0.001\n",
      "Method:                 Least Squares   F-statistic:                    0.4395\n",
      "Date:                Wed, 17 Oct 2018   Prob (F-statistic):              0.508\n",
      "Time:                        09:45:35   Log-Likelihood:                -10291.\n",
      "No. Observations:                1000   AIC:                         2.059e+04\n",
      "Df Residuals:                     998   BIC:                         2.060e+04\n",
      "Df Model:                           1                                         \n",
      "Covariance Type:            nonrobust                                         \n",
      "==============================================================================\n",
      "                 coef    std err          t      P>|t|      [0.025      0.975]\n",
      "------------------------------------------------------------------------------\n",
      "gre_qnt     -150.6097    227.193     -0.663      0.508    -596.440     295.221\n",
      "const       6.142e+04    225.711    272.117      0.000     6.1e+04    6.19e+04\n",
      "==============================================================================\n",
      "Omnibus:                        0.776   Durbin-Watson:                   2.025\n",
      "Prob(Omnibus):                  0.678   Jarque-Bera (JB):                0.687\n",
      "Skew:                           0.059   Prob(JB):                        0.709\n",
      "Kurtosis:                       3.049   Cond. No.                         1.01\n",
      "==============================================================================\n",
      "\n",
      "Warnings:\n",
      "[1] Standard Errors assume that the covariance matrix of the errors is correctly specified.\n"
     ]
    }
   ],
   "source": [
    "# Code to re-estimate, output of new coefficients\n",
    "X, y = sm.add_constant(Data['gre_qnt'], prepend=False),Data['salary_p4_new']\n",
    "reg2= sm.OLS(y,X).fit()\n",
    "print(reg2.summary())"
   ]
  },
  {
   "cell_type": "markdown",
   "metadata": {},
   "source": [
    "The estimated coefficients are $\\beta_0$ is 6.142e+04 and $\\beta_1$ is  -150.6097. The standard error is 225.711 for $\\beta_0$  and 227.193 for  $\\beta_1$.\n",
    "\n",
    "The new $\\beta_0$ is a bit smaller to the previous one. But the new $\\beta_1$ is much smaller. Also we notice that the estimate of old $\\beta_1$ is statisically significant, while the new $\\beta_1$ is not. If we ignore the stationarity and data drift problems, we might falsely reject the null hypothesis that higher intelligence is not associated with higher income. Now we cannot reject the null hypothesis. We might want to conclude that higher intelligence is not associated with higher income."
   ]
  },
  {
   "cell_type": "code",
   "execution_count": 21,
   "metadata": {},
   "outputs": [
    {
     "data": {
      "image/png": "[encoded data removed]",
      "text/plain": [
       "<matplotlib.figure.Figure at 0x1d2c7fca470>"
      ]
     },
     "metadata": {},
     "output_type": "display_data"
    }
   ],
   "source": [
    "Data.plot(x='gre_qnt', y='salary_p4_new', kind='scatter')\n",
    "x1=np.linspace(-4,4)\n",
    "y1=-150.6097*x1+6.142e+04\n",
    "plt.plot(x1,y1,'-r')\n",
    "plt.show()"
   ]
  },
  {
   "cell_type": "markdown",
   "metadata": {},
   "source": [
    "### 3. Assessment of Kossinets and Watts."
   ]
  },
  {
   "cell_type": "markdown",
   "metadata": {},
   "source": [
    "The research question of the paper is: What could explain the mechanism of homophily generation in a dynamic social network?\n",
    "\n",
    "\n",
    "The authors merged three databases to cover interaction, affiliation, and attribute-type longitudinal data of 30,396 observations. These observations are undergraduate and graduate students, faculty, and staff in a large U.S. university, who were active email users in that academic year. In particular, the three datasets are:\n",
    "\n",
    "(1) the logs of e-mail interactions within the university over one academic year; \n",
    "\n",
    "(2) a database of individual attributes (status, gender, age, department, number of years in the community, etc.);\n",
    "\n",
    "(3) records of course registration, in which courses were recorded separately for each semester. \n",
    "\n",
    "The variables for the network modeling are personal characteristics (age, gender, home state, formal status, years in school), organizational affiliations (primary department, school, campus, dormitory, academic field), course-related variables (courses taken, courses taught), and e-mail-related variables (days active, messages sent, messages received, in-degree, out-degree, reciprocated degree).\n",
    "\n",
    "\n",
    "After the data cleaning, the authors got 7,156,162 messages exchanged by 30,396 stable e-mail users during the 270 days period. Appendix A provides a description and definition of these variables.\n",
    "\n",
    "One potential problem about the dataset is that only e-mail accounts on the central university server were included. The authors addressed the problem that department-specified email accounts such as such as \"xyz@department.university.edu\" cannot be matched with employee records and therefore have been deleted. Another fact is that many people might choose to use their oown email account such as \"@gmail.com\" for communciations with others for better functionalities. Although these records are much harder to obtain, excluding them from the analysis might make the social network of interest incomplete and biased.\n",
    "\n",
    "Matching the email-logs and characteristics of the senders and receivers to construct \"social relationship\" is a challenge task. E-mail exchanges comprise discrete and intermittent “spike trains” that are often “bursty” in nature (Cortes et al. 2003; Eckmann, Moses, and Sergi 2004). One weekness is that it couldn't track the timing of the tie formation. To address this weekness, the authors introduced the sliding window filter model to construct instantaneous network approximations from discrete dyadic interactions. This technique often is employed to analyze and visualize networks over time (Cortes et al. 2003; Moody et al. 2005; Kossinets and Watts 2006)\n",
    "\n",
    "\n"
   ]
  }
 ],
 "metadata": {
  "kernelspec": {
   "display_name": "Python 3",
   "language": "python",
   "name": "python3"
  },
  "language_info": {
   "codemirror_mode": {
    "name": "ipython",
    "version": 3
   },
   "file_extension": ".py",
   "mimetype": "text/x-python",
   "name": "python",
   "nbconvert_exporter": "python",
   "pygments_lexer": "ipython3",
   "version": "3.6.1"
  }
 },
 "nbformat": 4,
 "nbformat_minor": 1
}
