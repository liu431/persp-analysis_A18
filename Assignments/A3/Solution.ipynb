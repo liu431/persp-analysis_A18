{
 "cells": [
  {
   "cell_type": "markdown",
   "metadata": {},
   "source": [
    "# Assignment 3\n",
    "Li Liu\n",
    "\n",
    "Oct 23, 2018"
   ]
  },
  {
   "cell_type": "markdown",
   "metadata": {},
   "source": [
    "#### 1. Simulation in Sociology, Moretti (2002)"
   ]
  },
  {
   "cell_type": "markdown",
   "metadata": {
    "collapsed": true
   },
   "source": [
    "Moretti (2002) analyzes the contributions of four different simulation techniques (sysetm dynamics, multiagent systems, cellular automata, and genetic algorithms) in sociological research. Establishing “validity” of the simulative\n",
    "model of the theory is crucial, as it measures whether theoretical constructs and their simulated implementation represent the facts of people's behaviors.\n",
    "\n",
    "The quote by George Box, \"All models are wrong, but some are useful.\", also applies to the simulations models. These models are \"wrong\" because of their potential weaknesses in validity. Multiagent systems, for example, provide tools for modeling social interaction and formalizing social roles. However, such models rely heavily on theories of rationality. The recent development of behavior economics have shown people are not necessarily rational in daily decision makings. Also, psychological theories (emotions, motivations, desire, intent, consciousness) are hard to formalize as they vary across individuals and time. Moreover, the complexness of knowledge makes it challenging to be formalized in the models. Missing these pieces would weaken the validity of multiagent systems.\n",
    "\n",
    "Another example to illustrate validity issue is the cellular automata. One weakness is the use of synchronous updating of states, assuming that all cells are updated according to the global clock. However, in real world, individuals update their opinions and attributes at various moments, as they might have different reactions to the new information. In addition, this model also restricts that individual interacts only with a subset of the population. Such spatial structures are not representative in today's digital age when people can easily interact with each other through the social media.\n",
    "\n",
    "Simulations models are \"useful\" when we want to model the dynamic feedback within the social system. One example cited in the paper is the legitimacy-seeking model simulated by Hanneman, Collins, & Mordt (1995). They describe that when there are larger difference between rulers' current legitimacy and the targeted maximum legitimacy, rulers are more motivated to initiate external conflict. If conflict is initiated, the result would alter the prestige in the status order of political communities as well as the current legitimacy. This consequence might initiate new external conflicts.\n",
    "\n",
    "\n",
    "Dynamic feedback is also useful for understanding topics in political science. One research question to ask is: What's the impact of open immigration policy on democracy? The initial stimulus (countries' democracy levels) changes individuals' immigration choice. In turn, countries with new immigrations tend to be more democractic, and thus attract more global talents. \n",
    "\n",
    "\n",
    "\n",
    "\n",
    "\n",
    "\n"
   ]
  },
  {
   "cell_type": "markdown",
   "metadata": {},
   "source": [
    "Reference:\n",
    "\n",
    "Moretti, Sabrina, \"Computer Simulation in Sociology: What Contribution?\" Social\n",
    "\n",
    "Science Computer Review, 20:1 (Spring 2002), pp. 43-57.\n",
    "\n",
    "Hanneman, R., Collins, R., & Mordt, G. (1995). Discovering theory dynamics by computer simulation: Experiments\n",
    "on state legitimacy and imperialist capitalism. Sociological Methodology, 25, 1-46.\n",
    "    "
   ]
  },
  {
   "cell_type": "markdown",
   "metadata": {},
   "source": [
    "#### 2. Simulating your income"
   ]
  },
  {
   "cell_type": "code",
   "execution_count": 16,
   "metadata": {
    "collapsed": true
   },
   "outputs": [],
   "source": [
    "# Import initial packages\n",
    "import numpy as np\n",
    "import matplotlib.pyplot as plt\n",
    "from matplotlib.ticker import MultipleLocator"
   ]
  },
  {
   "cell_type": "markdown",
   "metadata": {},
   "source": [
    "(a)"
   ]
  },
  {
   "cell_type": "code",
   "execution_count": 17,
   "metadata": {
    "collapsed": true
   },
   "outputs": [],
   "source": [
    "def income_sim(p):\n",
    "    \"\"\"\n",
    "    p (Simulation profile) as a dictionary:    \n",
    "    p = {\n",
    "        'mu'          :0,          #mean of my income process\n",
    "        'sigma'       :0.025,      #standard deviation of my income process\n",
    "        'inc'         :80000,      #starting income\n",
    "        'gr'          :0.025,      #growth rate\n",
    "        'rho'         :0.4,        #positive dependence of today’s income on last period’s income\n",
    "        'st_year'     :int(2018),  #start year\n",
    "        'lf_years'    :40,         #years to live\n",
    "        'draws'       :10000       #simulations\n",
    "    }\n",
    "    \"\"\"  \n",
    "    #set random seed\n",
    "    np.random.seed(524)\n",
    "    \n",
    "    #draw 10,000 sets of 40 normally distributed errors    \n",
    "    errors = np.random.normal(p['mu'],p['sigma'],(p['lf_years'], p['draws']))\n",
    "\n",
    "    #create a matrix of dim (lf_years, num_draws)\n",
    "    ln_income_mat = np.zeros((p['lf_years'], p['draws']))\n",
    "\n",
    "    #fill the first row of the matrix\n",
    "    ln_income_mat[0, :] = np.log(p['inc']) + errors[0, :]\n",
    "\n",
    "    #loop and apply model (fill rows 1 to 39)\n",
    "    for yr in range(1, p['lf_years']):\n",
    "        ln_income_mat[yr, :] = (1 - p['rho']) * (np.log(p['inc'])+p['gr']*yr)+\\\n",
    "                                p['rho']*(ln_income_mat[yr - 1, :])+errors[yr, :]\n",
    "                             \n",
    "\n",
    "    income_mat = np.exp(ln_income_mat) \n",
    "    \n",
    "    return income_mat"
   ]
  },
  {
   "cell_type": "code",
   "execution_count": 18,
   "metadata": {
    "collapsed": true
   },
   "outputs": [],
   "source": [
    "p = {\n",
    "        'mu'          :0,           #mean of my income process\n",
    "        'sigma'       :0.13,       #standard deviation of my income process\n",
    "        'inc'         :80000,      #starting income\n",
    "        'gr'          :0.025,      #growth rate\n",
    "        'rho'         :0.4,        #positive dependence of today’s income on last period’s income\n",
    "        'st_year'     :int(2018),  #start year\n",
    "        'lf_years'    :40,         #years to live\n",
    "        'draws'       :10000       #simulations\n",
    "    }\n",
    "income=income_sim(p)"
   ]
  },
  {
   "cell_type": "code",
   "execution_count": 19,
   "metadata": {
    "scrolled": true
   },
   "outputs": [
    {
     "data": {
      "text/plain": [
       "<matplotlib.text.Text at 0x14a2df62f98>"
      ]
     },
     "execution_count": 19,
     "metadata": {},
     "output_type": "execute_result"
    },
    {
     "data": {
      "image/png": "[encoded data removed]",
      "text/plain": [
       "<matplotlib.figure.Figure at 0x14a2d30d4a8>"
      ]
     },
     "metadata": {},
     "output_type": "display_data"
    }
   ],
   "source": [
    "%matplotlib inline\n",
    "year_vec = np.arange(p['st_year']+2, p['st_year']+2 + p['lf_years'])\n",
    "individual =5000\n",
    "fig, ax = plt.subplots()\n",
    "plt.plot(year_vec, income[:, individual])\n",
    "minorLocator = MultipleLocator(1)\n",
    "ax.xaxis.set_minor_locator(minorLocator)\n",
    "plt.grid(b=True, which='major', color='0.65', linestyle='-')\n",
    "plt.title('Simulated Lifetime Income Path', fontsize=20)\n",
    "plt.xlabel(r'Year $t$')\n",
    "plt.ylabel(r'Annual Income (\\$s)')"
   ]
  },
  {
   "cell_type": "markdown",
   "metadata": {},
   "source": [
    "(b) "
   ]
  },
  {
   "cell_type": "code",
   "execution_count": 20,
   "metadata": {},
   "outputs": [
    {
     "data": {
      "text/plain": [
       "<matplotlib.text.Text at 0x14a2e7249e8>"
      ]
     },
     "execution_count": 20,
     "metadata": {},
     "output_type": "execute_result"
    },
    {
     "data": {
      "image/png": "[encoded data removed]",
      "text/plain": [
       "<matplotlib.figure.Figure at 0x14a2e741dd8>"
      ]
     },
     "metadata": {},
     "output_type": "display_data"
    }
   ],
   "source": [
    "a=income[0,:]\n",
    "plt.hist(a, bins=50)\n",
    "plt.xlabel(\"Income Distribution\")\n",
    "plt.title(\"Histogram of Simulated Initial Income at 2020\")"
   ]
  },
  {
   "cell_type": "code",
   "execution_count": 21,
   "metadata": {},
   "outputs": [
    {
     "name": "stdout",
     "output_type": "stream",
     "text": [
      "mean: 80653.27431763953 \n",
      " median: 79865.11458578068\n"
     ]
    }
   ],
   "source": [
    "print(\"mean:\",np.mean(a),\"\\n\",\"median:\",np.median(a))"
   ]
  },
  {
   "cell_type": "markdown",
   "metadata": {},
   "source": [
    "For the 10000 simulations of income at year 2020, mean is larger than median. So the distribution is a little bit right-skewed."
   ]
  },
  {
   "cell_type": "code",
   "execution_count": 22,
   "metadata": {},
   "outputs": [
    {
     "data": {
      "text/plain": [
       "0.0417"
      ]
     },
     "execution_count": 22,
     "metadata": {},
     "output_type": "execute_result"
    }
   ],
   "source": [
    "(a>100000).sum()/len(a)"
   ]
  },
  {
   "cell_type": "markdown",
   "metadata": {},
   "source": [
    "4.17% of the class will earn more than $100,000 in the first year out of the program."
   ]
  },
  {
   "cell_type": "code",
   "execution_count": 23,
   "metadata": {},
   "outputs": [
    {
     "data": {
      "text/plain": [
       "0.1512"
      ]
     },
     "execution_count": 23,
     "metadata": {},
     "output_type": "execute_result"
    }
   ],
   "source": [
    "(a<70000).sum()/len(a)"
   ]
  },
  {
   "cell_type": "markdown",
   "metadata": {},
   "source": [
    "15.12% of the class will earn less than $70,000 in the first year out of the program.\n"
   ]
  },
  {
   "cell_type": "markdown",
   "metadata": {},
   "source": [
    "(c)"
   ]
  },
  {
   "cell_type": "code",
   "execution_count": 24,
   "metadata": {
    "collapsed": true
   },
   "outputs": [],
   "source": [
    "payoff=income*0.1\n",
    "t=[]\n",
    "for i in range(p['draws']):\n",
    "    paid=payoff[:,i][0]\n",
    "    for j in range(1,40):\n",
    "        if paid<95000:\n",
    "            paid+=payoff[:,i][j]\n",
    "        else:\n",
    "            t.append(j)\n",
    "            break"
   ]
  },
  {
   "cell_type": "code",
   "execution_count": 25,
   "metadata": {},
   "outputs": [
    {
     "data": {
      "text/plain": [
       "<matplotlib.text.Text at 0x14a2ed8f358>"
      ]
     },
     "execution_count": 25,
     "metadata": {},
     "output_type": "execute_result"
    },
    {
     "data": {
      "image/png": "[encoded data removed]",
      "text/plain": [
       "<matplotlib.figure.Figure at 0x14a2e976d30>"
      ]
     },
     "metadata": {},
     "output_type": "display_data"
    }
   ],
   "source": [
    "#5 unique years: {9, 10, 11, 12, 13}\n",
    "plt.hist(t,bins=5)\n",
    "plt.xlabel(\"Year Distribution\")\n",
    "plt.title(\"Histogram of Years to Pay Off the Loan\")"
   ]
  },
  {
   "cell_type": "code",
   "execution_count": 26,
   "metadata": {},
   "outputs": [
    {
     "data": {
      "text/plain": [
       "0.1678"
      ]
     },
     "execution_count": 26,
     "metadata": {},
     "output_type": "execute_result"
    }
   ],
   "source": [
    "len([i for i in t if float(i) <=10])/len(t)"
   ]
  },
  {
   "cell_type": "markdown",
   "metadata": {},
   "source": [
    "16.78% of the individuals in simulations are able to pay off the loan in 10 years!"
   ]
  },
  {
   "cell_type": "markdown",
   "metadata": {},
   "source": [
    "(d)"
   ]
  },
  {
   "cell_type": "code",
   "execution_count": 27,
   "metadata": {
    "collapsed": true
   },
   "outputs": [],
   "source": [
    "p2 = {\n",
    "        'mu'          :0,           #mean of my income process\n",
    "        'sigma'       :0.17,       #standard deviation of my income process\n",
    "        'inc'         :90000,      #starting income\n",
    "        'gr'          :0.025,      #growth rate\n",
    "        'rho'         :0.4,        #positive dependence of today’s income on last period’s income\n",
    "        'st_year'     :int(2018),  #start year\n",
    "        'lf_years'    :40,         #years to live\n",
    "        'draws'       :10000       #simulations\n",
    "    }"
   ]
  },
  {
   "cell_type": "code",
   "execution_count": 28,
   "metadata": {
    "collapsed": true
   },
   "outputs": [],
   "source": [
    "income2=income_sim(p2)\n",
    "payoff2=income2*0.1\n",
    "t2=[]\n",
    "for i in range(p2['draws']):\n",
    "    paid=payoff2[:,i][0]\n",
    "    for j in range(1,40):\n",
    "        if paid<95000:\n",
    "            paid+=payoff2[:,i][j]\n",
    "        else:\n",
    "            t2.append(j)\n",
    "            break\n",
    "      "
   ]
  },
  {
   "cell_type": "code",
   "execution_count": 29,
   "metadata": {},
   "outputs": [
    {
     "data": {
      "text/plain": [
       "<matplotlib.text.Text at 0x14a2e07eda0>"
      ]
     },
     "execution_count": 29,
     "metadata": {},
     "output_type": "execute_result"
    },
    {
     "data": {
      "image/png": "[encoded data removed]",
      "text/plain": [
       "<matplotlib.figure.Figure at 0x14a2e013470>"
      ]
     },
     "metadata": {},
     "output_type": "display_data"
    }
   ],
   "source": [
    "#5 unique years: {7, 8, 9, 10, 11, 12, 13}\n",
    "plt.hist(t2,bins=7)\n",
    "plt.xlabel(\"Year Distribution\")\n",
    "plt.title(\"New histogram of years to pay off the loan\")"
   ]
  },
  {
   "cell_type": "code",
   "execution_count": 30,
   "metadata": {},
   "outputs": [
    {
     "data": {
      "text/plain": [
       "0.7602"
      ]
     },
     "execution_count": 30,
     "metadata": {},
     "output_type": "execute_result"
    }
   ],
   "source": [
    "len([i for i in t2 if float(i) <=10])/len(t2)"
   ]
  },
  {
   "cell_type": "markdown",
   "metadata": {},
   "source": [
    "76% of the simulations are able to pay off the loan in 10 years if MACSS program becomes very\n",
    "well known in the next two years!"
   ]
  }
 ],
 "metadata": {
  "kernelspec": {
   "display_name": "Python 3",
   "language": "python",
   "name": "python3"
  },
  "language_info": {
   "codemirror_mode": {
    "name": "ipython",
    "version": 3
   },
   "file_extension": ".py",
   "mimetype": "text/x-python",
   "name": "python",
   "nbconvert_exporter": "python",
   "pygments_lexer": "ipython3",
   "version": "3.6.1"
  }
 },
 "nbformat": 4,
 "nbformat_minor": 2
}
